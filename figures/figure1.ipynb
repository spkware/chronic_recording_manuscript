{
 "cells": [
  {
   "cell_type": "code",
   "execution_count": null,
   "id": "f2ee4553-2e3d-4845-aa00-5e90f4bb80fb",
   "metadata": {},
   "outputs": [],
   "source": [
    "%matplotlib widget\n",
    "import pylab as plt\n",
    "from labdata.schema import *\n",
    "\n",
    "plt.matplotlib.rcParams['pdf.fonttype'] = 42\n",
    "plt.matplotlib.rcParams['ps.fonttype'] = 42\n",
    "savepath = Path('../../figures/figure1')\n"
   ]
  },
  {
   "cell_type": "code",
   "execution_count": null,
   "id": "d9312d37-97b3-4efa-95b2-05a851db226a",
   "metadata": {},
   "outputs": [],
   "source": [
    "UnitCount.populate(processes = 12, display_progress = True)"
   ]
  },
  {
   "cell_type": "code",
   "execution_count": null,
   "id": "b9e81e84-ba23-4894-abfc-d2270aa06c2d",
   "metadata": {},
   "outputs": [],
   "source": [
    "subject = 'JC131'\n",
    "q_task = (Dataset() & f'subject_name = \"{subject}\"' & 'dataset_name LIKE \"%Droplets%\"').fetch('subject_name','session_name',as_dict = True)\n",
    "\n",
    "rec_task = pd.DataFrame((Session*UnitCount*EphysRecording.ProbeSetting & q_task &\n",
    "     \"parameter_set_num = 5\" & 'unit_criteria_id = 1' & 'configuration_id = 3').fetch())\n",
    "rec_all = pd.DataFrame((Session*UnitCount*EphysRecording.ProbeSetting & f'subject_name = \"{subject}\"' &\n",
    "     \"parameter_set_num = 5\" & 'unit_criteria_id = 1' & 'configuration_id = 3').fetch())\n",
    "\n",
    "implant_date = np.array((Procedure() & f'subject_name = \"{subject}\"' & 'procedure_type = \"chronic implant\"').fetch('procedure_datetime'),dtype = 'datetime64')\n"
   ]
  },
  {
   "cell_type": "code",
   "execution_count": null,
   "id": "9ad2087f-ce81-4c15-ae3e-d1a0aa6d5fb4",
   "metadata": {},
   "outputs": [],
   "source": [
    "import pylab as plt\n",
    "fig = plt.figure(figsize = [7.48,1.35])\n",
    "fig.add_axes([0.2,0.2,0.7,0.7])\n",
    "days = (rec_all.session_datetime.values - implant_date).astype('timedelta64[D]').astype(int)\n",
    "plt.plot(days,\n",
    "         rec_all.sua,'ko',markerfacecolor = 'gray',ms = 2,markeredgewidth = 0)\n",
    "days = (rec_task.session_datetime.values - implant_date).astype('timedelta64[D]').astype(int)\n",
    "plt.plot(days,\n",
    "         rec_task.sua,'ko',markerfacecolor = 'none',ms = 2,markeredgewidth = 0.5)\n",
    "\n",
    "days = (rec_all.session_datetime.values - implant_date).astype('timedelta64[D]').astype(int)\n",
    "plt.plot(days,\n",
    "         rec_all.mua,'ko',markerfacecolor = 'none',ms = 1,markeredgewidth = 0.5)\n",
    "\n",
    "plt.hlines(np.mean(rec_all.sua.values),days.min(),days.max(),lw = 0.5,color = 'k')\n",
    "\n",
    "plt.ylim([0,600])\n",
    "plt.xlim([0,days.max()*1.01])\n",
    "\n",
    "plt.xticks(np.arange(0,days.max(),60),fontsize = 6)\n",
    "plt.yticks(np.arange(0,550,150),fontsize = 6)\n",
    "plt.xlabel('Days from implant',fontsize = 8)\n",
    "plt.ylabel('# units',fontsize = 8)\n",
    "plt.gca().spines[['right', 'top']].set_visible(False)\n",
    "plt.text(60,200,'single units',fontsize = 7)\n",
    "plt.text(180,450,'sorted units',fontsize = 7);\n",
    "if not savepath.exists():\n",
    "    savepath.mkdir(parents = True)\n",
    "fig.savefig(savepath/f'{subject}_units_longitudinal.pdf')"
   ]
  }
 ],
 "metadata": {
  "kernelspec": {
   "display_name": "Python 3 (ipykernel)",
   "language": "python",
   "name": "python3"
  },
  "language_info": {
   "codemirror_mode": {
    "name": "ipython",
    "version": 3
   },
   "file_extension": ".py",
   "mimetype": "text/x-python",
   "name": "python",
   "nbconvert_exporter": "python",
   "pygments_lexer": "ipython3",
   "version": "3.11.7"
  }
 },
 "nbformat": 4,
 "nbformat_minor": 5
}
