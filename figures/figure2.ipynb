{
 "cells": [
  {
   "cell_type": "code",
   "execution_count": 23,
   "id": "01944853-5a92-4383-a36c-ad6f7a7c53ac",
   "metadata": {
    "execution": {
     "iopub.execute_input": "2024-06-01T14:08:29.161125Z",
     "iopub.status.busy": "2024-06-01T14:08:29.160854Z",
     "iopub.status.idle": "2024-06-01T14:08:29.168094Z",
     "shell.execute_reply": "2024-06-01T14:08:29.167450Z",
     "shell.execute_reply.started": "2024-06-01T14:08:29.161105Z"
    }
   },
   "outputs": [],
   "source": [
    "from labdata.schema import *\n",
    "import pylab as plt\n",
    "%matplotlib widget\n",
    "from labdata import chronic_paper as paper\n",
    "plt.matplotlib.rcParams['pdf.fonttype'] = 42\n",
    "plt.matplotlib.rcParams['ps.fonttype'] = 42\n",
    "savepath = Path('../../figures/figure2')\n",
    "savepath.mkdir(parents = True,exist_ok = True)\n",
    "\n",
    "loc_subject = 'JC131'\n",
    "loc_session = '20231012_174050'\n"
   ]
  },
  {
   "cell_type": "code",
   "execution_count": null,
   "id": "80d4c036-6065-4fca-9528-9044a58e2c42",
   "metadata": {},
   "outputs": [],
   "source": [
    "# get the locomotion traces\n",
    "key = dict(subject_name = loc_subject,\n",
    "          session_name = loc_session)\n",
    "# insert the locomotion session\n",
    "dat = paper.LocomotionBehaviorTreadmill().insert_session(key)"
   ]
  },
  {
   "cell_type": "markdown",
   "id": "bc49f73b-e8d4-40fb-bfd4-e3c5a0982ffb",
   "metadata": {},
   "source": [
    "### Motion estimate for a probe with 2 shanks in cortex and 2 in thalamus. \n",
    "\n",
    "Motion estimates on locomoting headfixed mouse. "
   ]
  },
  {
   "cell_type": "code",
   "execution_count": null,
   "id": "e1b3f964-c332-4b7c-aa26-30cf9ef799c8",
   "metadata": {},
   "outputs": [],
   "source": [
    "shank_num = 0\n",
    "k = dict(subject_name = loc_subject,\n",
    "         session_name = loc_session, shank_num = shank_num)\n",
    "\n",
    "dat = (paper.DredgeSpikeDetection()*paper.DredgeMotionEstimate()*paper.LocomotionBehaviorTreadmill & k).fetch1()\n",
    "\n",
    "sp = (paper.DredgeSpikeDetection() & k).get_spikes(shank_num = k['shank_num']).iloc[0]\n",
    "\n",
    "k = dict(subject_name = loc_subject,\n",
    "         session_name = loc_session)\n",
    "dat_all = pd.DataFrame((paper.DredgeSpikeDetection()*paper.DredgeMotionEstimate()*paper.LocomotionBehaviorTreadmill & k).fetch())"
   ]
  },
  {
   "cell_type": "code",
   "execution_count": null,
   "id": "6ddc3c5f-b00e-4565-ba86-860f28d6c691",
   "metadata": {},
   "outputs": [],
   "source": [
    "from spks.viz import plot_drift_raster\n",
    "import pylab as plt\n",
    "fig = plt.figure(figsize=[8,5])\n",
    "ax = [fig.add_axes([0.1,0.6,0.7,0.3]),\n",
    "      fig.add_axes([0.1,0.35,0.7,0.15]),\n",
    "      fig.add_axes([0.1,0.1,0.7,0.15])]\n",
    "tt = 2000\n",
    "ttdur = 1000\n",
    "max_time = 3600\n",
    "plt.axes(ax[0])\n",
    "idx = (sp['t_seconds']>tt) & (sp['t_seconds']<tt+ttdur) & (sp['depth_um']<4700) & (sp['depth_um']>4480)\n",
    "plot_drift_raster(sp['t_seconds'][idx],\n",
    "                  sp['depth_um'][idx],\n",
    "                  sp['amps'][idx]\n",
    "                  ,n_spikes_to_plot=50000,clim=[0,200],cmap = 'gray_r')\n",
    "#plt.ylim([4300,4900])\n",
    "idx = (dat_all['time_bin_centers_s'].iloc[0]>=tt) & (dat_all['time_bin_centers_s'].iloc[0]<(tt+ttdur))\n",
    "plt.plot(dat_all['time_bin_centers_s'].iloc[0][idx],dat_all['displacement'].iloc[0][idx]+np.mean(plt.ylim()),'r')\n",
    "\n",
    "# plt.xlim([tt,tt+ttdur])\n",
    "plt.xlim([tt,tt+ttdur])\n",
    "\n",
    "plt.axes(ax[1])\n",
    "\n",
    "time = dat['time'][:-1]\n",
    "plt.plot(time,dat['velocity'],'k',lw = 0.5)\n",
    "from scipy.signal import medfilt\n",
    "loc_binary = (medfilt(dat['velocity'],101)>1).astype(int)\n",
    "onsets = np.where(np.diff(loc_binary)>0)[0]\n",
    "offsets = np.where(np.diff(loc_binary)<0)[0]\n",
    "\n",
    "onsets = onsets[onsets>offsets[0]]\n",
    "offsets = offsets[offsets<onsets[-1]]\n",
    "idx = np.where((onsets-offsets)>(5/np.diff(time[:2])))\n",
    "onsets = onsets[idx]\n",
    "offsets = offsets[idx]\n",
    "plt.plot(time[onsets],dat['velocity'][onsets],'r|')\n",
    "plt.xlim([tt,tt+ttdur])\n",
    "plt.ylim(-5,55)\n",
    "plt.axes(ax[2])\n",
    "plt.plot(dat_all['time_bin_centers_s'].iloc[0],dat_all['displacement'].iloc[0],'r')\n",
    "plt.plot(dat_all['time_bin_centers_s'].iloc[2],dat_all['displacement'].iloc[2][0],'k')\n",
    "plt.ylim([-20,20])\n",
    "plt.xlim([tt,tt+ttdur])\n",
    "# extract the triggered locations\n",
    "loc_start = []\n",
    "disp_start = []\n",
    "locrate = 1./np.diff(time[:2])\n",
    "idx = np.arange(-5*locrate,10*locrate).astype(int)\n",
    "for on in onsets:\n",
    "    onset = np.where(time>time[on])[0][0]\n",
    "    if ((onset - idx[0])>0) and ((onset + idx[-1])<len(dat['velocity'])):\n",
    "        loc_start.append(dat['velocity'][onset+idx])\n",
    "\n",
    "for i,dat in dat_all.iterrows():\n",
    "    disp = dat['displacement']\n",
    "    if len(disp.shape) == 2:\n",
    "        disp = disp[-1]\n",
    "    disp_t = dat['time_bin_centers_s']\n",
    "    disp_rate = 1./np.diff(disp_t[:2])\n",
    "    disp_idx = np.arange(-5*disp_rate,11*disp_rate).astype(int)\n",
    "    disp_start.append([])\n",
    "    for on in onsets:\n",
    "        onset = np.where(disp_t>time[on])[0][0]\n",
    "        if ((onset - disp_idx[0])>0) and ((onset + disp_idx[-1])<len(disp)):\n",
    "            disp_start[-1].append(disp[onset+disp_idx])\n",
    "plt.savefig(savepath/'figure2_locomotion_raster.pdf')"
   ]
  },
  {
   "cell_type": "code",
   "execution_count": null,
   "id": "b3410400-3202-4200-92a6-4d2da2923fe3",
   "metadata": {},
   "outputs": [],
   "source": [
    "fig = plt.figure(figsize = [5,2])\n",
    "fig.add_subplot(2,1,1)\n",
    "def plot_mean_and_sterr(time,dat,color = 'k',facecolor = 'lightgray',fillalpha = 0.5,linealpha = 1,lw = 1):\n",
    "    m = dat.mean(axis = 0)\n",
    "    s = dat.std(axis = 0)/np.sqrt(len(dat))    \n",
    "\n",
    "    plt.fill_between(time,m+s,m-s,facecolor = facecolor,alpha = fillalpha)\n",
    "    plt.plot(time,m,color = color,alpha = linealpha,lw = lw)\n",
    "\n",
    "plot_mean_and_sterr(idx/locrate,np.stack(loc_start))\n",
    "fig.add_subplot(2,1,2)\n",
    "for i,disp in enumerate(disp_start):\n",
    "    d = np.stack(disp)\n",
    "    #plot_mean_and_sterr(disp_idx/disp_rate,d)\n",
    "    if i>=2:\n",
    "        plot_mean_and_sterr(disp_idx/disp_rate,d,color = 'k',facecolor = 'gray',linealpha = 0.7)\n",
    "    else:\n",
    "        plot_mean_and_sterr(disp_idx/disp_rate,d,color = 'r',facecolor = 'red',linealpha = 0.7)\n",
    "plt.ylim(-5,5)\n",
    "# disp_start2 = np.stack(disp_start2)\n",
    "# plt.plot(disp_idx/disp_rate,disp_start2.T,'r',lw = 0.1);\n",
    "# plt.plot(disp_idx/disp_rate,disp_start2.mean(axis = 0),'r',lw = 1);\n",
    "plt.savefig(savepath/'figure2_locomotion_triggered.pdf')"
   ]
  },
  {
   "cell_type": "markdown",
   "id": "061bc56f-1694-4cb2-9a57-09f781ca7beb",
   "metadata": {
    "execution": {
     "iopub.execute_input": "2024-05-25T22:41:53.743212Z",
     "iopub.status.busy": "2024-05-25T22:41:53.742641Z",
     "iopub.status.idle": "2024-05-25T22:41:53.751021Z",
     "shell.execute_reply": "2024-05-25T22:41:53.749334Z",
     "shell.execute_reply.started": "2024-05-25T22:41:53.743166Z"
    }
   },
   "source": [
    "# comparisson of acute and chronic on approximately the same insertions.\n"
   ]
  },
  {
   "cell_type": "code",
   "execution_count": null,
   "id": "944b26be-6e85-4c77-a2a7-41d503f48c0d",
   "metadata": {},
   "outputs": [],
   "source": [
    "np.timedelta64((datetime(2023,10,26) - datetime(2023,8,10))).astype('timedelta64[W]')"
   ]
  },
  {
   "cell_type": "code",
   "execution_count": 24,
   "id": "cf43162f-1e58-4086-8ef9-eb4acf843d53",
   "metadata": {
    "execution": {
     "iopub.execute_input": "2024-06-01T14:08:34.206250Z",
     "iopub.status.busy": "2024-06-01T14:08:34.205765Z",
     "iopub.status.idle": "2024-06-01T14:08:34.211302Z",
     "shell.execute_reply": "2024-06-01T14:08:34.210188Z",
     "shell.execute_reply.started": "2024-06-01T14:08:34.206223Z"
    }
   },
   "outputs": [],
   "source": [
    "# SUBJECTS = ['_CSH_ZAD_026','_CSH_ZAD_026','MM008','MM008','MM012','MM012']\n",
    "# SESSIONS = ['2020-08-15/001',\n",
    "#             '2020-08-19/001',\n",
    "#             '2023-03-23/001',\n",
    "#             '2023-06-09/001',\n",
    "#             '2023-08-15/001',\n",
    "#             '2023-10-25/003']\n",
    "# PROBENUM = [0,0,1,1,1,1]\n",
    "\n",
    "labels = ['Acute session 1',\n",
    "          'Acute session 2',\n",
    "          'Chronic implant 1\\nWeek 1',\n",
    "          'Chronic implant 1\\nWeek 11',\n",
    "          'Chronic implant 2\\nWeek 1',\n",
    "          'Chronic implant 2\\nWeek 11',\n",
    "          'Chronic implant 3\\nWeek 1',\n",
    "          'Chronic implant 3\\nWeek 11']\n",
    "\n",
    "SUBJECTS = ['_CSH_ZAD_026','_CSH_ZAD_026','MM008','MM008','MM012','MM012']\n",
    "SESSIONS = ['2020-08-15/001',\n",
    "            '2020-08-19/001',\n",
    "            '2023-03-23/001',\n",
    "            '2023-06-07/001',\n",
    "            '2023-08-10/001',\n",
    "            '2023-10-26/001']\n",
    "PROBENUM = [0,0]+[1]*4\n"
   ]
  },
  {
   "cell_type": "code",
   "execution_count": null,
   "id": "3f638c23-a843-4e99-bd33-dd8a64fe3e21",
   "metadata": {},
   "outputs": [],
   "source": []
  },
  {
   "cell_type": "code",
   "execution_count": null,
   "id": "c1e9639c-f9ab-450a-baeb-5c27e606688f",
   "metadata": {},
   "outputs": [],
   "source": [
    "unit_criteria_id = 1\n",
    "parameter_set_num = 5\n",
    "keys = []\n",
    "for a,s,p in zip(SUBJECTS,SESSIONS,PROBENUM):\n",
    "    keys.append(dict(subject_name = a,\n",
    "                    session_name = s,\n",
    "                    probe_num = p,\n",
    "                    unit_criteria_id = unit_criteria_id,\n",
    "                    parameter_set_num = parameter_set_num))\n",
    "suas = pd.DataFrame((UnitCount() & keys).fetch())\n",
    "fig = plt.figure(figsize = [3,3])\n",
    "plt.plot([1,1.1],suas.sua.values[[0,1]],'ko',markerfacecolor = 'none')\n",
    "plt.plot([3,4],suas.sua.values[[2,3]],'ro-',markerfacecolor = 'none')\n",
    "plt.plot([3.1,4.1],suas.sua.values[[4,5]],'o-',markeredgecolor = 'darkred',markerfacecolor = 'none')\n",
    "\n",
    "plt.ylim([0,200])\n",
    "plt.yticks([0,150,300])\n",
    "plt.xticks([1,3,4],['acute','week 1','week 11'])\n",
    "plt.gca().spines[['right', 'top']].set_visible(False)\n",
    "plt.savefig(savepath/'figure2_SUA_count.pdf')"
   ]
  },
  {
   "cell_type": "code",
   "execution_count": null,
   "id": "f297c8ac-0cad-4696-a6ac-6163ad11344b",
   "metadata": {},
   "outputs": [],
   "source": [
    "# Motion\n",
    "dat = pd.DataFrame((paper.DredgeMotionEstimate() & 'shank_num = 0' & keys).fetch())\n",
    "from scipy.signal import detrend\n",
    "fig = plt.figure(figsize = [3,3])\n",
    "for i,d in enumerate(dat.displacement.values):\n",
    "    if i < 2:\n",
    "        c = 'k'\n",
    "    elif i in [2,4]:\n",
    "        c = 'r'\n",
    "    else:\n",
    "        c = 'darkred'\n",
    "    # plt.plot(np.abs(detrend(d.T,axis = 0)),c)\n",
    "    edges = np.arange(-20,20,0.1)\n",
    "    count,ed = np.histogram(d.flatten(),edges)\n",
    "    plt.plot(ed[:-1],np.cumsum(count)/len(d.flatten()),color = c,clip_on = False)\n",
    "plt.xlabel('Motion estimate ($\\mu$m)')\n",
    "plt.ylabel('Cumulative distribution')\n",
    "plt.yticks([0,1])\n",
    "#plt.ylim([0,1])\n",
    "plt.xlim([-20,20])\n",
    "plt.gca().spines[['right', 'top']].set_visible(False)\n",
    "plt.savefig(savepath/'figure2_motion_compare.pdf')"
   ]
  },
  {
   "cell_type": "code",
   "execution_count": null,
   "id": "73439b07",
   "metadata": {},
   "outputs": [],
   "source": [
    "# run stats on distributions\n",
    "import numpy as np\n",
    "from scipy.stats import kstest, levene, fligner, f\n",
    "\n",
    "for i,d1 in enumerate(d):\n",
    "    for j,d2 in enumerate(d[i+1:]):\n",
    "        d1 = np.histogram(d1.flatten(),edges)[0]\n",
    "        d2 = np.histogram(d2.flatten(),edges)[0]\n",
    "        _,p = fligner(d1,d2)\n",
    "        print(f'P val for session {i} and {i+j+1} is {p}')\n"
   ]
  },
  {
   "cell_type": "code",
   "execution_count": null,
   "id": "103e55a5-96e6-4108-b3b4-c4fa1beab1a3",
   "metadata": {},
   "outputs": [],
   "source": [
    "data = pd.DataFrame((UnitMetrics* UnitCount.Unit & keys).fetch())\n",
    "# get sua amplitudes for all units\n",
    "ampsua = []\n",
    "amps = []\n",
    "for a,s in zip(SUBJECTS,SESSIONS):\n",
    "    idx = np.where((data['subject_name'] == a) & (data['session_name']==s) & (data['passes'] == 1))[0]\n",
    "    ampsua.append(data['spike_amplitude'].values[idx])\n",
    "    \n",
    "    idx = np.where((data['subject_name'] == a) & (data['session_name']==s) & (data['passes'] == 0))[0]\n",
    "    amps.append(-data['spike_amplitude'].values[idx][np.isfinite(data['spike_amplitude'].values[idx])])\n",
    "fig = plt.figure(figsize = [5,2])\n",
    "vsua = plt.violinplot(ampsua,showmedians= True);\n",
    "vmua = plt.violinplot(amps,showmedians= True);\n",
    "for i,(u,a) in enumerate(zip(ampsua,amps)):\n",
    "    plt.text(i+1.15,500, f'{len(u)} sua',rotation = 90)\n",
    "    plt.text(i+1.15,-500, f'{len(a)} mua',rotation = 90)\n",
    "for i,b in enumerate(vsua['bodies']):\n",
    "    if i < 2:\n",
    "        c = 'k'\n",
    "    elif i in [2,4]:\n",
    "        c = 'r'\n",
    "    else:\n",
    "        c = 'darkred'\n",
    "    b.set_edgecolor(c)\n",
    "    b.set_facecolor('lightgray')\n",
    "    b.set_alpha(1)\n",
    "vsua['cmedians'].set_color('k')\n",
    "vsua['cbars'].set_color('k')\n",
    "vsua['cmins'].set_color('k')\n",
    "vsua['cmaxes'].set_color('k')\n",
    "\n",
    "for i,b in enumerate(vmua['bodies']):\n",
    "    if i < 2:\n",
    "        c = 'k'\n",
    "    elif i in [2,4]:\n",
    "        c = 'r'\n",
    "    else:\n",
    "        c = 'darkred'\n",
    "    b.set_edgecolor(c)\n",
    "    b.set_facecolor('lightgray')\n",
    "    b.set_alpha(1)\n",
    "vmua['cmedians'].set_color('k')\n",
    "vmua['cbars'].set_color('k')\n",
    "vmua['cmins'].set_color('k')\n",
    "vmua['cmaxes'].set_color('k')\n",
    "plt.ylim([-1000,1000])\n",
    "plt.yticks([-500,0,500])\n",
    "plt.ylabel('Absolute spike amplitude ($\\mu$V)')\n",
    "plt.gca().spines[['right', 'top']].set_visible(False)\n",
    "plt.savefig(savepath/'figure2_spike_amplitudes.pdf')"
   ]
  },
  {
   "cell_type": "code",
   "execution_count": null,
   "id": "d14a4daa-99a4-421e-a9d5-2c0aef0fdbb2",
   "metadata": {},
   "outputs": [],
   "source": [
    "# stats for spike amplitudes\n",
    "from scipy.stats import f_oneway, tukey_hsd\n",
    "\n",
    "stat,p = f_oneway(*amps) # ANOVA\n",
    "print(p)\n",
    "stat,p = f_oneway(*ampsua) # ANOVA\n",
    "print(p)\n",
    "\n",
    "# tukey post ho\n",
    "amps_rez = tukey_hsd(*amps)\n",
    "sua_amps_rez = tukey_hsd(*ampsua)\n",
    "for i in range(len(amps)):\n",
    "    for j in range(i+1,len(amps)):\n",
    "        print(f'P value for session {i} and {j} is {amps_rez.pvalue[i,j]} (multi-unit)')\n",
    "        print(f'P value for session {i} and {j} is {sua_amps_rez.pvalue[i,j]} (single-unit)')"
   ]
  },
  {
   "cell_type": "markdown",
   "id": "2a32f9ed-284e-4f52-a140-03fb624aab9d",
   "metadata": {},
   "source": [
    "### Comparison of units passing with different criteria"
   ]
  },
  {
   "cell_type": "code",
   "execution_count": null,
   "id": "71bb0209-e20e-42f7-9504-57e08f6deb46",
   "metadata": {},
   "outputs": [],
   "source": [
    "for k in keys:\n",
    "    if 'unit_criteria_id' in k.keys():\n",
    "        del k['unit_criteria_id']\n",
    "d1 = pd.DataFrame((UnitCount() & keys & 'unit_criteria_id = 1').fetch())\n",
    "d2 = pd.DataFrame((UnitCount() & keys & 'unit_criteria_id = 6').fetch())\n",
    "fig = plt.figure(figsize = [3,3])\n",
    "fig.add_axes([0.3,0.3,0.5,0.5])\n",
    "plt.scatter(d2.sua.values,d1.sua.values,100,['k','k','r','darkred','red','darkred'],alpha = 0.8,marker = 'o')\n",
    "plt.axis('square')\n",
    "plt.xlim(80,320)\n",
    "plt.ylim(80,320)\n",
    "plt.plot([80,320],[80,320],'k',lw = 0.5)\n",
    "plt.yticks([100,200,300],fontsize=8)\n",
    "plt.xticks([100,200,300],fontsize=8)\n",
    "plt.plot(d2.sua.values[2:4],d1.sua.values[2:4],lw = 0.5,color='k')\n",
    "plt.plot(d2.sua.values[4:6],d1.sua.values[4:6],lw = 0.5,color='k')\n",
    "plt.ylabel('# passing units\\n(presence > 60%)', fontsize=12)\n",
    "plt.xlabel('# passing units\\n(presence > 0%)',fontsize = 12)"
   ]
  },
  {
   "cell_type": "code",
   "execution_count": 89,
   "id": "c6cc88af-9be5-43ca-b388-92c64f325144",
   "metadata": {
    "execution": {
     "iopub.execute_input": "2024-06-02T09:29:57.353577Z",
     "iopub.status.busy": "2024-06-02T09:29:57.353150Z",
     "iopub.status.idle": "2024-06-02T09:29:57.362429Z",
     "shell.execute_reply": "2024-06-02T09:29:57.361797Z",
     "shell.execute_reply.started": "2024-06-02T09:29:57.353552Z"
    }
   },
   "outputs": [
    {
     "name": "stdout",
     "output_type": "stream",
     "text": [
      "Chronic: 50.5 2.704163456597992\n",
      "Acute 78.5 3.8890872965260113\n"
     ]
    }
   ],
   "source": [
    "print('Chronic:',np.mean(d2.sua.values[2:]-d1.sua.values[2:]),np.std(d2.sua.values[2:]-d1.sua.values[2:])/np.sqrt(4))\n",
    "print('Acute',np.mean(d2.sua.values[:2]-d1.sua.values[:2]),np.std(d2.sua.values[:2]-d1.sua.values[:2])/np.sqrt(2))"
   ]
  }
 ],
 "metadata": {
  "kernelspec": {
   "display_name": "Python 3 (ipykernel)",
   "language": "python",
   "name": "python3"
  },
  "language_info": {
   "codemirror_mode": {
    "name": "ipython",
    "version": 3
   },
   "file_extension": ".py",
   "mimetype": "text/x-python",
   "name": "python",
   "nbconvert_exporter": "python",
   "pygments_lexer": "ipython3",
   "version": "3.11.7"
  }
 },
 "nbformat": 4,
 "nbformat_minor": 5
}
