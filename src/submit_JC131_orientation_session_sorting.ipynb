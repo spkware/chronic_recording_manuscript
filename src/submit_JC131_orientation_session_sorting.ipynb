{
 "cells": [
  {
   "cell_type": "code",
   "execution_count": 7,
   "metadata": {},
   "outputs": [],
   "source": [
    "import labdatatools as ldt\n",
    "from pathlib import Path\n",
    "import numpy as np\n",
    "import subprocess\n",
    "\n",
    "SUBJECT = 'JC131'\n",
    "N_PROBES = 1"
   ]
  },
  {
   "cell_type": "code",
   "execution_count": 8,
   "metadata": {},
   "outputs": [
    {
     "name": "stdout",
     "output_type": "stream",
     "text": [
      "91\n",
      "76\n"
     ]
    }
   ],
   "source": [
    "files = ldt.rclone_list_files(SUBJECT).dropna()\n",
    "ori_sessions = files[files.datatype == 'orientation'].session\n",
    "ori_sessions = np.unique(ori_sessions).tolist()\n",
    "print(len(ori_sessions))\n",
    "\n",
    "temp = []\n",
    "for sess in ori_sessions: # ensure that ephys data exists\n",
    "    #if 'ephys_g0' in files[files.session == sess].datatype.values:\n",
    "    if np.any(files[files.session == sess].datatype.str.contains('ephys_')):\n",
    "        ses = files[files.session == sess].iloc[0].session\n",
    "        temp.append(ses)\n",
    "ori_sessions_with_ephys = np.array(temp)\n",
    "print(len(ori_sessions_with_ephys))"
   ]
  },
  {
   "cell_type": "code",
   "execution_count": 9,
   "metadata": {},
   "outputs": [
    {
     "name": "stdout",
     "output_type": "stream",
     "text": [
      "76\n",
      "0\n"
     ]
    }
   ],
   "source": [
    "temp, temp2 = [],[]\n",
    "for sess in ori_sessions_with_ephys:\n",
    "    ses = files[files.session == sess].iloc[0].session\n",
    "    if np.any(files[files.session == sess].datatype.str.contains('kilosort2.5')):\n",
    "        temp.append(ses)\n",
    "    else:\n",
    "        temp2.append(ses)\n",
    "sorted_ori_sessions = np.array(temp)\n",
    "unsorted_ori_sessions = np.array(temp2)\n",
    "print(len(sorted_ori_sessions))\n",
    "print(len(unsorted_ori_sessions))\n",
    "    "
   ]
  },
  {
   "cell_type": "code",
   "execution_count": 10,
   "metadata": {},
   "outputs": [
    {
     "data": {
      "text/plain": [
       "array([], dtype=float64)"
      ]
     },
     "execution_count": 10,
     "metadata": {},
     "output_type": "execute_result"
    }
   ],
   "source": [
    "unsorted_ori_sessions"
   ]
  },
  {
   "cell_type": "code",
   "execution_count": 11,
   "metadata": {},
   "outputs": [],
   "source": [
    "#submit the jobs\n",
    "submit_cmd = 'labdata submit spks -a {subject} -s {session} --module matlab --conda-env spks --queue gpu,RTX2080Ti,h_rt=3:00:00,cuda=1 --delete-session --overwrite -- -t \\$TMPDIR'\n",
    "submit_cmd = 'labdata submit spks -a {subject} -s {session} -g 1 -n 6 -m 40 --delete-session --overwrite -- -t /scratch'\n",
    "\n",
    "for sess in unsorted_ori_sessions:\n",
    "    cmd = submit_cmd.format(session=sess, subject=SUBJECT)\n",
    "    print(cmd)\n",
    "    #out = subprocess.check_output(cmd.split(' ')).decode()\n",
    "    #print(out)"
   ]
  }
 ],
 "metadata": {
  "kernelspec": {
   "display_name": "churchlandenv",
   "language": "python",
   "name": "python3"
  },
  "language_info": {
   "codemirror_mode": {
    "name": "ipython",
    "version": 3
   },
   "file_extension": ".py",
   "mimetype": "text/x-python",
   "name": "python",
   "nbconvert_exporter": "python",
   "pygments_lexer": "ipython3",
   "version": "3.10.12"
  }
 },
 "nbformat": 4,
 "nbformat_minor": 2
}
