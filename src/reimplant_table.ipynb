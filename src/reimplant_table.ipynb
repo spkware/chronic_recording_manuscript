{
 "cells": [
  {
   "cell_type": "code",
   "execution_count": null,
   "metadata": {},
   "outputs": [],
   "source": [
    "import numpy as np\n",
    "import matplotlib\n",
    "import matplotlib.pyplot as plt\n",
    "from tqdm import tqdm\n",
    "from datetime import datetime\n",
    "\n",
    "from labdata.schema import *\n",
    "\n",
    "matplotlib.rcParams['pdf.fonttype'] = 42\n",
    "matplotlib.rcParams['ps.fonttype'] = 42\n",
    "#matplotlib.rcParams.update({'font.size': 18})"
   ]
  },
  {
   "cell_type": "code",
   "execution_count": null,
   "metadata": {},
   "outputs": [],
   "source": [
    "Procedure() & 'procedure_type = \"chronic implant\"'"
   ]
  },
  {
   "cell_type": "code",
   "execution_count": null,
   "metadata": {},
   "outputs": [],
   "source": [
    "#TODO: need to add neural data for MM010 and several JC mice so they will appear on the plot\n",
    "Procedure() & 'procedure_type = \"chronic explant\"'"
   ]
  },
  {
   "cell_type": "code",
   "execution_count": null,
   "metadata": {},
   "outputs": [],
   "source": [
    "#TODO: MUST ADD JC141 subject and insertions and explant\n",
    "#Subject().insert1(dict(subject_name='JC141',\n",
    "#                       #subject_dob=, # TODO: add DOB\n",
    "#                       subject_gender='M',\n",
    "#                       strain_name='R26-LNL-GtACR1-Fred-Kv2.1',\n",
    "#                       user_name='couto'))\n",
    "#\n",
    "#to_insert = dict(subject_name='JC140',\n",
    "#                 procedure_type='chronic implant',\n",
    "#                 procedure_datetime='2023-12-05 18:00:00',\n",
    "#                 user_name='couto',)\n",
    "#Procedure().insert1(to_insert, skip_duplicates=True) \n",
    "#\n",
    "#to_insert = dict(subject_name='JC140',\n",
    "#                 procedure_type='chronic explant',\n",
    "#                 procedure_datetime='2023-12-20 13:00:00',\n",
    "#                 user_name='couto',)\n",
    "#Procedure().insert1(to_insert, skip_duplicates=True) "
   ]
  },
  {
   "cell_type": "code",
   "execution_count": null,
   "metadata": {},
   "outputs": [],
   "source": [
    "EphysRecording.ProbeSetting()  & 'subject_name = \"MM010\"' # FIXME: missing MM010 right now."
   ]
  },
  {
   "cell_type": "code",
   "execution_count": null,
   "metadata": {},
   "outputs": [],
   "source": [
    "# Get all the implantation and explantation data from the database\n",
    "procedures = EphysRecording.ProbeSetting() * Procedure() & 'procedure_type LIKE \"chronic%\"'\n",
    "procedures = pd.DataFrame(procedures.fetch('probe_id', 'subject_name', 'procedure_datetime','procedure_type', as_dict=True)).drop_duplicates()\n",
    "#print(f'There are {(len(procedures.probe_id.unique()))} probes in the database')\n",
    "procedures.head()"
   ]
  },
  {
   "cell_type": "code",
   "execution_count": null,
   "metadata": {},
   "outputs": [],
   "source": [
    "# Plot a Gantt chart for all probes used\n",
    "import matplotlib.pyplot as plt\n",
    "import matplotlib.cm as cm\n",
    "import  matplotlib.dates as mdates\n",
    "\n",
    "color = list(cm.rainbow(np.linspace(0, 1, len(procedures.probe_id.unique()))))\n",
    "color = list(cm.tab20(np.linspace(0, 1, len(procedures.probe_id.unique()))))\n",
    "prbs, starts, ends, heights, cols = [], [], [], [], []\n",
    "for prb_ind,prb in enumerate(procedures.probe_id.unique()):\n",
    "    implant_times = procedures[(procedures.probe_id == prb) & (procedures.procedure_type == 'chronic implant')].procedure_datetime.values\n",
    "    explant_times = procedures[(procedures.probe_id == prb) & (procedures.procedure_type == 'chronic explant')].procedure_datetime.values\n",
    "    for implant in implant_times:\n",
    "        explant = explant_times[explant_times > implant]\n",
    "        explant = explant[0] if len(explant) else np.datetime64(datetime.now())\n",
    "        starts.append(implant)\n",
    "        #widths.append(np.datetime64(explant) - implant)\n",
    "        ends.append(explant)\n",
    "        heights.append(prb_ind)\n",
    "        #cols.append(mpl_colors[prb_ind % len(mpl_colors)])\n",
    "        cols.append(color[prb_ind])\n",
    "    prbs.append(prb)\n",
    "\n",
    "widths = np.array(ends) - np.array(starts)\n",
    "\n",
    "fig, ax = plt.subplots(figsize=(10,5))\n",
    "plt.barh(heights, widths, left=starts, color=cols)\n",
    "plt.ylabel('Probe number')\n",
    "plt.xlabel('Date')\n",
    "plt.yticks(range(len(prbs)), prbs) # apply serial numbers\n",
    "plt.gca().xaxis.set_major_locator(mdates.MonthLocator())\n",
    "plt.grid(which='major', axis='x', linestyle='--')\n",
    "plt.xticks(rotation=-45)\n",
    "plt.show()"
   ]
  },
  {
   "cell_type": "code",
   "execution_count": null,
   "metadata": {},
   "outputs": [],
   "source": [
    "implants = EphysRecording.ProbeSetting() * Procedure() & 'procedure_type LIKE \"chronic_implant\"'\n",
    "mice = implants.fetch('subject_name', order_by='procedure_datetime') # sort by implant date\n",
    "mice = pd.unique(mice)[::-1] #pd.unique preserves order unlike np.unique\n",
    "mice"
   ]
  },
  {
   "cell_type": "code",
   "execution_count": null,
   "metadata": {},
   "outputs": [],
   "source": [
    "# similar to plot above, but put each mouse on a separate row\n",
    "procedures = EphysRecording.ProbeSetting() * Procedure() & 'procedure_type LIKE \"chronic%\"'\n",
    "probe_ids = np.unique(procedures.fetch('probe_id'))\n",
    "color = list(cm.tab20(np.linspace(0, 1, len(probe_ids))))\n",
    "label_locations, prbs, starts, ends, heights, cols = [], [], [], [], [], []\n",
    "\n",
    "c = 0\n",
    "for m in mice:\n",
    "    query = procedures & f'subject_name = \"{m}\"'\n",
    "    prbs = np.unique(query.fetch('probe_id'))\n",
    "    label_locations.append(c + len(prbs) // 2)\n",
    "    for p in prbs:\n",
    "        implant_date = (query & f'probe_id = \"{p}\"' & 'procedure_type = \"chronic implant\"').fetch('procedure_datetime')[0]\n",
    "        explant_dates = (query & f'probe_id = \"{p}\"' & 'procedure_type = \"chronic explant\"').fetch('procedure_datetime')\n",
    "        explant_date = explant_dates[0] if len(explant_dates) else datetime.now()\n",
    "        starts.append(implant_date)\n",
    "        ends.append(explant_date)\n",
    "        heights.append(c)\n",
    "        cols.append(color[np.where(probe_ids == p)[0][0]])\n",
    "        c += 1 \n",
    "    c +=.75\n",
    "\n",
    "widths = np.array(ends) - np.array(starts)\n",
    "\n",
    "fig, ax = plt.subplots(figsize=(10,5))\n",
    "plt.barh(heights, widths, left=starts, height=1, color=cols)\n",
    "plt.legend()\n",
    "plt.ylabel('Animal ID')\n",
    "plt.xlabel('Date')\n",
    "plt.yticks(label_locations, mice) # apply serial numbers\n",
    "plt.gca().xaxis.set_major_locator(mdates.MonthLocator())\n",
    "plt.grid(which='major', axis='x', linestyle='--')\n",
    "plt.xticks(rotation=-45)\n",
    "plt.show()"
   ]
  },
  {
   "cell_type": "code",
   "execution_count": null,
   "metadata": {},
   "outputs": [],
   "source": [
    "#TODO: add extractions to db and plot probe extraction success \n",
    "ProbeExtraction()"
   ]
  }
 ],
 "metadata": {
  "kernelspec": {
   "display_name": "spks",
   "language": "python",
   "name": "python3"
  },
  "language_info": {
   "codemirror_mode": {
    "name": "ipython",
    "version": 3
   },
   "file_extension": ".py",
   "mimetype": "text/x-python",
   "name": "python",
   "nbconvert_exporter": "python",
   "pygments_lexer": "ipython3",
   "version": "3.11.5"
  }
 },
 "nbformat": 4,
 "nbformat_minor": 2
}
