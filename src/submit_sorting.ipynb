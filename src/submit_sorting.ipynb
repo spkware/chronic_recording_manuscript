{
 "cells": [
  {
   "cell_type": "markdown",
   "metadata": {},
   "source": [
    "## Submit spike sorting\n",
    "This script generates cluster jobs for spikesorting (Churchland lab pipeline)"
   ]
  },
  {
   "cell_type": "code",
   "execution_count": 27,
   "metadata": {},
   "outputs": [],
   "source": [
    "import labdatatools as ldt\n",
    "from pathlib import Path\n",
    "import numpy as np\n",
    "import subprocess\n",
    "\n",
    "SUBJECT = 'MM012'\n",
    "N_PROBES = 3 # the number of probes in the recording, script will check that each probe was sorted\n",
    "GPU = 'RTX2080Ti'\n",
    "CLUSTER = 'Hodgkin' #generate command for Hoffman or Hodgkin"
   ]
  },
  {
   "cell_type": "code",
   "execution_count": 28,
   "metadata": {},
   "outputs": [],
   "source": [
    "files = ldt.rclone_list_files(SUBJECT).dropna()\n",
    "ephys_sessions = files[files.datatype.str.contains('ephys_')]\n",
    "ksfolders = files[files.datatype.str.contains('kilosort2.5') & files.filename.str.contains('spike_times.npy')]\n",
    "ephys_sessions = np.unique([f'{s.session}' for i,s in ephys_sessions.iterrows()])"
   ]
  },
  {
   "cell_type": "code",
   "execution_count": 29,
   "metadata": {},
   "outputs": [
    {
     "name": "stdout",
     "output_type": "stream",
     "text": [
      "There are 1 sorted sessions\n",
      "There are 4 unsorted sessions\n"
     ]
    }
   ],
   "source": [
    "sorted_sessions, unsorted_sessions = [],[]\n",
    "for sess in ephys_sessions:\n",
    "    fold = ksfolders.session.str.contains(sess)\n",
    "    if sum(fold) == N_PROBES:\n",
    "        sorted_sessions.append(sess)\n",
    "    else:\n",
    "        unsorted_sessions.append(sess)\n",
    "\n",
    "print(f'There are {len(sorted_sessions)} sorted sessions')\n",
    "print(f'There are {len(unsorted_sessions)} unsorted sessions')"
   ]
  },
  {
   "cell_type": "code",
   "execution_count": 30,
   "metadata": {},
   "outputs": [
    {
     "name": "stdout",
     "output_type": "stream",
     "text": [
      "labdata submit spks -a MM012 -s 20231113_180427 -g 1 -n 8 -m 50 --delete-session --overwrite -- -t /scratch\n",
      "labdata submit spks -a MM012 -s 20231114_163339 -g 1 -n 8 -m 50 --delete-session --overwrite -- -t /scratch\n",
      "labdata submit spks -a MM012 -s 20231201_171654 -g 1 -n 8 -m 50 --delete-session --overwrite -- -t /scratch\n",
      "labdata submit spks -a MM012 -s 20231205_174217 -g 1 -n 8 -m 50 --delete-session --overwrite -- -t /scratch\n"
     ]
    }
   ],
   "source": [
    "for s in unsorted_sessions:\n",
    "    if CLUSTER == 'Hoffman':\n",
    "        cmd = f'labdata submit spks -a {SUBJECT} -s {s} --module matlab --conda-env spks --queue gpu,{GPU},h_rt=6:00:00,cuda=1 --delete-session --overwrite -- -t \\$TMPDIR' # for hoffman\n",
    "    elif CLUSTER == 'Hodgkin':\n",
    "        cmd = f'labdata submit spks -a {SUBJECT} -s {s} -g 1 -n 8 -m 50 --delete-session --overwrite -- -t /scratch' # for hodgkin\n",
    "    print(cmd)"
   ]
  }
 ],
 "metadata": {
  "kernelspec": {
   "display_name": "churchlandenv",
   "language": "python",
   "name": "python3"
  },
  "language_info": {
   "codemirror_mode": {
    "name": "ipython",
    "version": 3
   },
   "file_extension": ".py",
   "mimetype": "text/x-python",
   "name": "python",
   "nbconvert_exporter": "python",
   "pygments_lexer": "ipython3",
   "version": "3.10.12"
  }
 },
 "nbformat": 4,
 "nbformat_minor": 2
}
