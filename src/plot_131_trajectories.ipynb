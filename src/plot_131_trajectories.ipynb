{
 "cells": [
  {
   "cell_type": "code",
   "execution_count": 14,
   "metadata": {},
   "outputs": [],
   "source": []
  },
  {
   "cell_type": "code",
   "execution_count": 15,
   "metadata": {},
   "outputs": [],
   "source": [
    "import pyvista as pv\n",
    "from labdata.schema import * \n",
    "from labdata import chronic_paper as cp\n",
    "from vvasp.VizClasses import  NeuropixelsChronicHolder, Probe\n",
    "from vvasp.atlas_utils import Atlas\n",
    "from one.api import ONE\n",
    "from pathlib import Path\n",
    "\n",
    "PIDS = ['920865d3-1581-4e81-bd63-ab2186024564','8d89b7d0-33e7-45c6-9972-d3ad4c1e5f4c'] # IBL sessions with similar trajectories\n",
    "SAVEDIR = Path().home()\n",
    "one = ONE()"
   ]
  },
  {
   "cell_type": "code",
   "execution_count": 17,
   "metadata": {},
   "outputs": [
    {
     "data": {
      "application/vnd.jupyter.widget-view+json": {
       "model_id": "e18fcd3f79ec45148f1005307e214d48",
       "version_major": 2,
       "version_minor": 0
      },
      "text/plain": [
       "Widget(value='<iframe src=\"http://localhost:64999/index.html?ui=P_0x193abab2590_5&reconnect=auto\" class=\"pyvis…"
      ]
     },
     "metadata": {},
     "output_type": "display_data"
    },
    {
     "name": "stdout",
     "output_type": "stream",
     "text": [
      "{'subject_name': 'MM008', 'session_name': '2023-03-18/001', 'dataset_name': 'raw_ephys_data', 'probe_num': 1, 'procedure_type': 'chronic implant', 'procedure_datetime': datetime.datetime(2023, 3, 14, 20, 0), 'probe_id': '19454421152', 'configuration_id': 1, 'sampling_rate': Decimal('30000.10000000000000'), 'holder_id': 0, 'insertion_ap': 1137.0, 'insertion_ml': -1984.0, 'insertion_depth': 3937.0, 'insertion_el': 95.0, 'insertion_az': 70.0, 'insertion_spin': -90.0}\n"
     ]
    }
   ],
   "source": [
    "plotter = pv.Plotter()\n",
    "plotter.show()\n",
    "atlas = Atlas(plotter, min_tree_depth=6, max_tree_depth=8)\n",
    "atlas.add_atlas_region_mesh('MOp','left')\n",
    "atlas.add_atlas_region_mesh('CP','left')\n",
    "\n",
    "prbs = []\n",
    "for pid in PIDS: # add the acute insertions to the plot\n",
    "    traj = one.alyx.rest('trajectories','list', provenance='Planned', probe_insertion=pid)\n",
    "    assert len(traj) == 1\n",
    "    traj=traj[0]\n",
    "    mlap = [traj['x'], traj['y']]\n",
    "    mlapdv = [traj['x'], traj['y'], traj['z']]\n",
    "    angles = [90-traj['theta'], traj['roll'], traj['phi']-90] # convert to vvasp coordinate system\n",
    "    #angles=[0, 0, -90]\n",
    "    p = Probe('NP1',plotter, root_intersection_mesh=atlas.meshes['root'])\n",
    "    p.drive_probe_from_entry(mlap, angles, traj['depth'])\n",
    "    p.make_inactive()\n",
    "    prbs.append(p)\n",
    "    #p = Probe('NP1',plotter, mlapdv, angles, root_intersection_mesh=atlas.meshes['root'])\n",
    "\n",
    "# add the chronic implantations to the plot\n",
    "query = EphysRecording.ProbeSetting() * cp.ChronicInsertion() & dict(subject_name='MM008',\n",
    "                                                                     probe_num=1)\n",
    "chronic_insertion = (query * ProbeInsertion).fetch(limit=1, as_dict=True)[0]\n",
    "print(chronic_insertion)\n",
    "mlap = [chronic_insertion['insertion_ml'], chronic_insertion['insertion_ap']]\n",
    "angles = [chronic_insertion['insertion_el'], chronic_insertion['insertion_spin'], chronic_insertion['insertion_az']]\n",
    "p = Probe('NP1',plotter, root_intersection_mesh=atlas.meshes['root'])\n",
    "p.drive_probe_from_entry(mlap, angles, traj['depth'])\n",
    "\n",
    "plotter.isometric_view()\n"
   ]
  },
  {
   "cell_type": "code",
   "execution_count": 18,
   "metadata": {},
   "outputs": [],
   "source": [
    "img = plotter.screenshot(SAVEDIR / 'acute_chronic_comparison_trajectories.png', return_img=True, scale=5)"
   ]
  }
 ],
 "metadata": {
  "kernelspec": {
   "display_name": "spks",
   "language": "python",
   "name": "python3"
  },
  "language_info": {
   "codemirror_mode": {
    "name": "ipython",
    "version": 3
   },
   "file_extension": ".py",
   "mimetype": "text/x-python",
   "name": "python",
   "nbconvert_exporter": "python",
   "pygments_lexer": "ipython3",
   "version": "3.10.12"
  }
 },
 "nbformat": 4,
 "nbformat_minor": 2
}
