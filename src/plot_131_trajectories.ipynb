{
 "cells": [
  {
   "cell_type": "code",
   "execution_count": null,
   "metadata": {},
   "outputs": [],
   "source": []
  },
  {
   "cell_type": "code",
   "execution_count": null,
   "metadata": {},
   "outputs": [],
   "source": [
    "import pyvista as pv\n",
    "from labdata.schema import * \n",
    "from labdata import chronic_paper as cp\n",
    "from vvasp.VizClasses import  NeuropixelsChronicHolder, Probe\n",
    "from vvasp.atlas_utils import Atlas\n",
    "from pathlib import Path\n",
    "\n",
    "SAVEDIR = Path().home()"
   ]
  },
  {
   "cell_type": "code",
   "execution_count": null,
   "metadata": {},
   "outputs": [],
   "source": [
    "plotter = pv.Plotter()\n",
    "plotter.show()\n",
    "atlas = Atlas(plotter, min_tree_depth=6, max_tree_depth=8)\n",
    "atlas.add_atlas_region_mesh('VISp','left')\n",
    "atlas.add_atlas_region_mesh('PO','left')\n",
    "\n",
    "# add the chronic implantations to the plot\n",
    "query = EphysRecording.ProbeSetting() * cp.ChronicInsertion() & dict(subject_name='JC131',\n",
    "                                                                     probe_num=0)\n",
    "chronic_insertion = (query * ProbeInsertion).fetch(limit=1, as_dict=True)[0]\n",
    "print(chronic_insertion)\n",
    "mlap = [chronic_insertion['insertion_ml'], chronic_insertion['insertion_ap']]\n",
    "angles = [chronic_insertion['insertion_el'], chronic_insertion['insertion_spin'], chronic_insertion['insertion_az']]\n",
    "p = Probe('NP24',plotter, root_intersection_mesh=atlas.meshes['root'])\n",
    "p.drive_probe_from_entry(mlap, angles, chronic_insertion['insertion_depth'])\n",
    "p.make_inactive()\n",
    "\n",
    "plotter.isometric_view()\n"
   ]
  },
  {
   "cell_type": "code",
   "execution_count": null,
   "metadata": {},
   "outputs": [],
   "source": [
    "img = plotter.screenshot(SAVEDIR / '131_trajectories.png', return_img=True, scale=5)"
   ]
  }
 ],
 "metadata": {
  "kernelspec": {
   "display_name": "spks",
   "language": "python",
   "name": "python3"
  },
  "language_info": {
   "codemirror_mode": {
    "name": "ipython",
    "version": 3
   },
   "file_extension": ".py",
   "mimetype": "text/x-python",
   "name": "python",
   "nbconvert_exporter": "python",
   "pygments_lexer": "ipython3",
   "version": "3.10.12"
  }
 },
 "nbformat": 4,
 "nbformat_minor": 2
}
