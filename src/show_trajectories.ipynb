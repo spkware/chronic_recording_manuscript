{
 "cells": [
  {
   "cell_type": "code",
   "execution_count": 2,
   "metadata": {
    "execution": {
     "iopub.execute_input": "2024-05-16T04:29:20.480446Z",
     "iopub.status.busy": "2024-05-16T04:29:20.479968Z",
     "iopub.status.idle": "2024-05-16T04:29:26.590820Z",
     "shell.execute_reply": "2024-05-16T04:29:26.589499Z",
     "shell.execute_reply.started": "2024-05-16T04:29:20.480411Z"
    }
   },
   "outputs": [
    {
     "name": "stderr",
     "output_type": "stream",
     "text": [
      "[2024-05-15 21:29:21,700][INFO]: Connecting admin@churchland-data.cmojfwfr0b9t.us-west-2.rds.amazonaws.com:3306\n",
      "[2024-05-15 21:29:22,409][INFO]: Connected admin@churchland-data.cmojfwfr0b9t.us-west-2.rds.amazonaws.com:3306\n"
     ]
    }
   ],
   "source": [
    "# %load_ext autoreload\n",
    "# %autoreload 2\n",
    "import numpy as np\n",
    "from vvasp.VizClasses import NeuropixelsChronicHolder\n",
    "from vvasp.atlas_utils import Atlas\n",
    "import pyvista as pv\n",
    "from labdata.schema import *"
   ]
  },
  {
   "cell_type": "code",
   "execution_count": 34,
   "metadata": {
    "execution": {
     "iopub.execute_input": "2024-05-16T14:59:31.040454Z",
     "iopub.status.busy": "2024-05-16T14:59:31.039481Z",
     "iopub.status.idle": "2024-05-16T14:59:31.109969Z",
     "shell.execute_reply": "2024-05-16T14:59:31.109117Z",
     "shell.execute_reply.started": "2024-05-16T14:59:31.040413Z"
    }
   },
   "outputs": [
    {
     "data": {
      "text/html": [
       "<div>\n",
       "<style scoped>\n",
       "    .dataframe tbody tr th:only-of-type {\n",
       "        vertical-align: middle;\n",
       "    }\n",
       "\n",
       "    .dataframe tbody tr th {\n",
       "        vertical-align: top;\n",
       "    }\n",
       "\n",
       "    .dataframe thead th {\n",
       "        text-align: right;\n",
       "    }\n",
       "</style>\n",
       "<table border=\"1\" class=\"dataframe\">\n",
       "  <thead>\n",
       "    <tr style=\"text-align: right;\">\n",
       "      <th></th>\n",
       "      <th></th>\n",
       "      <th></th>\n",
       "      <th></th>\n",
       "      <th>probe_type</th>\n",
       "      <th>probe_n_shanks</th>\n",
       "      <th>probe_recording_channels</th>\n",
       "      <th>insertion_ap</th>\n",
       "      <th>insertion_ml</th>\n",
       "      <th>insertion_depth</th>\n",
       "      <th>insertion_el</th>\n",
       "      <th>insertion_az</th>\n",
       "      <th>insertion_spin</th>\n",
       "    </tr>\n",
       "    <tr>\n",
       "      <th>probe_id</th>\n",
       "      <th>subject_name</th>\n",
       "      <th>procedure_type</th>\n",
       "      <th>procedure_datetime</th>\n",
       "      <th></th>\n",
       "      <th></th>\n",
       "      <th></th>\n",
       "      <th></th>\n",
       "      <th></th>\n",
       "      <th></th>\n",
       "      <th></th>\n",
       "      <th></th>\n",
       "      <th></th>\n",
       "    </tr>\n",
       "  </thead>\n",
       "  <tbody>\n",
       "    <tr>\n",
       "      <th>20403312621</th>\n",
       "      <th>JC119</th>\n",
       "      <th>chronic implant</th>\n",
       "      <th>2023-08-08 11:00:00</th>\n",
       "      <td>24</td>\n",
       "      <td>4</td>\n",
       "      <td>384</td>\n",
       "      <td>-4221.0</td>\n",
       "      <td>-2339.0</td>\n",
       "      <td>3079.0</td>\n",
       "      <td>135.0</td>\n",
       "      <td>0.0</td>\n",
       "      <td>0.0</td>\n",
       "    </tr>\n",
       "    <tr>\n",
       "      <th>20403312751</th>\n",
       "      <th>JC119</th>\n",
       "      <th>chronic implant</th>\n",
       "      <th>2023-08-08 11:00:00</th>\n",
       "      <td>24</td>\n",
       "      <td>4</td>\n",
       "      <td>384</td>\n",
       "      <td>-1701.0</td>\n",
       "      <td>-1154.0</td>\n",
       "      <td>3252.0</td>\n",
       "      <td>90.0</td>\n",
       "      <td>10.0</td>\n",
       "      <td>180.0</td>\n",
       "    </tr>\n",
       "  </tbody>\n",
       "</table>\n",
       "</div>"
      ],
      "text/plain": [
       "                                                             probe_type  \\\n",
       "probe_id    subject_name procedure_type  procedure_datetime               \n",
       "20403312621 JC119        chronic implant 2023-08-08 11:00:00         24   \n",
       "20403312751 JC119        chronic implant 2023-08-08 11:00:00         24   \n",
       "\n",
       "                                                              probe_n_shanks  \\\n",
       "probe_id    subject_name procedure_type  procedure_datetime                    \n",
       "20403312621 JC119        chronic implant 2023-08-08 11:00:00               4   \n",
       "20403312751 JC119        chronic implant 2023-08-08 11:00:00               4   \n",
       "\n",
       "                                                              probe_recording_channels  \\\n",
       "probe_id    subject_name procedure_type  procedure_datetime                              \n",
       "20403312621 JC119        chronic implant 2023-08-08 11:00:00                       384   \n",
       "20403312751 JC119        chronic implant 2023-08-08 11:00:00                       384   \n",
       "\n",
       "                                                              insertion_ap  \\\n",
       "probe_id    subject_name procedure_type  procedure_datetime                  \n",
       "20403312621 JC119        chronic implant 2023-08-08 11:00:00       -4221.0   \n",
       "20403312751 JC119        chronic implant 2023-08-08 11:00:00       -1701.0   \n",
       "\n",
       "                                                              insertion_ml  \\\n",
       "probe_id    subject_name procedure_type  procedure_datetime                  \n",
       "20403312621 JC119        chronic implant 2023-08-08 11:00:00       -2339.0   \n",
       "20403312751 JC119        chronic implant 2023-08-08 11:00:00       -1154.0   \n",
       "\n",
       "                                                              insertion_depth  \\\n",
       "probe_id    subject_name procedure_type  procedure_datetime                     \n",
       "20403312621 JC119        chronic implant 2023-08-08 11:00:00           3079.0   \n",
       "20403312751 JC119        chronic implant 2023-08-08 11:00:00           3252.0   \n",
       "\n",
       "                                                              insertion_el  \\\n",
       "probe_id    subject_name procedure_type  procedure_datetime                  \n",
       "20403312621 JC119        chronic implant 2023-08-08 11:00:00         135.0   \n",
       "20403312751 JC119        chronic implant 2023-08-08 11:00:00          90.0   \n",
       "\n",
       "                                                              insertion_az  \\\n",
       "probe_id    subject_name procedure_type  procedure_datetime                  \n",
       "20403312621 JC119        chronic implant 2023-08-08 11:00:00           0.0   \n",
       "20403312751 JC119        chronic implant 2023-08-08 11:00:00          10.0   \n",
       "\n",
       "                                                              insertion_spin  \n",
       "probe_id    subject_name procedure_type  procedure_datetime                   \n",
       "20403312621 JC119        chronic implant 2023-08-08 11:00:00             0.0  \n",
       "20403312751 JC119        chronic implant 2023-08-08 11:00:00           180.0  "
      ]
     },
     "execution_count": 34,
     "metadata": {},
     "output_type": "execute_result"
    }
   ],
   "source": [
    "insertions2plot = Probe() * ProbeInsertion() & 'subject_name = \"JC119\"'\n",
    "insertions = insertions2plot.fetch(format='frame')\n",
    "insertions.head()"
   ]
  },
  {
   "cell_type": "code",
   "execution_count": 35,
   "metadata": {
    "execution": {
     "iopub.execute_input": "2024-05-16T14:59:33.178393Z",
     "iopub.status.busy": "2024-05-16T14:59:33.178110Z",
     "iopub.status.idle": "2024-05-16T14:59:34.124189Z",
     "shell.execute_reply": "2024-05-16T14:59:34.123936Z",
     "shell.execute_reply.started": "2024-05-16T14:59:33.178368Z"
    }
   },
   "outputs": [],
   "source": [
    "#plotter = pv.Plotter(notebook=True)\n",
    "#plotter.show()\n",
    "\n",
    "from pyvistaqt import BackgroundPlotter\n",
    "plotter = BackgroundPlotter()\n",
    "from vvasp.atlas_utils import Atlas\n",
    "\n",
    "\n",
    "atlas = Atlas(plotter, min_tree_depth=8, max_tree_depth=8)\n",
    "atlas.add_atlas_region_mesh('MOp')\n",
    "atlas.add_atlas_region_mesh('ACAd')\n",
    "atlas.add_atlas_region_mesh('ACAv')\n",
    "atlas.add_atlas_region_mesh('VISp')\n",
    "#atlas.add_atlas_region_mesh('CP')\n",
    "\n",
    "probes = []\n",
    "for i, entrypoint in insertions.iterrows():\n",
    "    entry_point = entrypoint[['insertion_ml','insertion_ap']].values\n",
    "    depth = entrypoint['insertion_depth']\n",
    "    angles = entrypoint[['insertion_el','insertion_spin','insertion_az']].values\n",
    "    if entrypoint.probe_type in ['24','2013']:\n",
    "        prb = NeuropixelsChronicHolder('NP24','head_fixed', plotter, root_intersection_mesh=atlas.meshes['root'])\n",
    "    elif entrypoint.probe_type == '0':\n",
    "        prb = NeuropixelsChronicHolder('NP1','head_fixed', plotter, root_intersection_mesh=atlas.meshes['root'])\n",
    "    prb.drive_probe_from_entry(entry_point, angles, depth)\n",
    "    prb.make_inactive()\n",
    "    #prb.set_location(np.concatenate([entry_point,np.array([0])]), angles*0)\n",
    "    probes.append(prb)\n",
    "plotter.isometric_view()\n",
    "plotter.camera_position = [(-3577.2251228963696, -5386.420795569701, 157353.7066907824),\n",
    " (1973.742623945378, -411.819226267251, 11575.725284099579),\n",
    " (0.054326249752177376, 0.9978697164813165, 0.036120458432326516)]\n",
    "    "
   ]
  },
  {
   "cell_type": "code",
   "execution_count": 33,
   "metadata": {
    "execution": {
     "iopub.execute_input": "2024-05-16T14:59:28.411642Z",
     "iopub.status.busy": "2024-05-16T14:59:28.411220Z",
     "iopub.status.idle": "2024-05-16T14:59:28.558427Z",
     "shell.execute_reply": "2024-05-16T14:59:28.557404Z",
     "shell.execute_reply.started": "2024-05-16T14:59:28.411600Z"
    }
   },
   "outputs": [],
   "source": [
    "ins = (ProbeInsertion() & 'subject_name = \"JC119\"').fetch(as_dict = True)\n",
    "i = 0\n",
    "ins[i]['insertion_el'] = 90+45\n",
    "ins[i]['insertion_az'] = 0\n",
    "#ins[i]['insertion_spin'] = 180\n",
    "ProbeInsertion.update1(ins[i])"
   ]
  },
  {
   "cell_type": "code",
   "execution_count": 6,
   "metadata": {
    "execution": {
     "iopub.execute_input": "2024-05-16T03:14:59.304819Z",
     "iopub.status.busy": "2024-05-16T03:14:59.304179Z",
     "iopub.status.idle": "2024-05-16T03:14:59.311879Z",
     "shell.execute_reply": "2024-05-16T03:14:59.310964Z",
     "shell.execute_reply.started": "2024-05-16T03:14:59.304774Z"
    }
   },
   "outputs": [
    {
     "data": {
      "text/plain": [
       "[(-3577.2251228963696, -5386.420795569701, 157353.7066907824),\n",
       " (1973.742623945378, -411.819226267251, 11575.725284099579),\n",
       " (0.054326249752177376, 0.9978697164813165, 0.036120458432326516)]"
      ]
     },
     "execution_count": 6,
     "metadata": {},
     "output_type": "execute_result"
    }
   ],
   "source": [
    "from labdata import chronic_paper\n",
    "@chronic_paper\n",
    "class ImplantDiagramCameraPositions()\n",
    "plotter.camera_position"
   ]
  }
 ],
 "metadata": {
  "kernelspec": {
   "display_name": "Python 3 (ipykernel)",
   "language": "python",
   "name": "python3"
  },
  "language_info": {
   "codemirror_mode": {
    "name": "ipython",
    "version": 3
   },
   "file_extension": ".py",
   "mimetype": "text/x-python",
   "name": "python",
   "nbconvert_exporter": "python",
   "pygments_lexer": "ipython3",
   "version": "3.11.7"
  }
 },
 "nbformat": 4,
 "nbformat_minor": 4
}
