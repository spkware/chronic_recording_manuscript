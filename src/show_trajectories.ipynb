{
 "cells": [
  {
   "cell_type": "code",
   "execution_count": 1,
   "metadata": {},
   "outputs": [
    {
     "name": "stderr",
     "output_type": "stream",
     "text": [
      "[2024-05-16 18:43:14,998][INFO]: Connecting mmelin@churchland-data.cmojfwfr0b9t.us-west-2.rds.amazonaws.com:3306\n",
      "[2024-05-16 18:43:15,398][INFO]: Connected mmelin@churchland-data.cmojfwfr0b9t.us-west-2.rds.amazonaws.com:3306\n"
     ]
    }
   ],
   "source": [
    "#%load_ext autoreload\n",
    "#%autoreload 2\n",
    "import numpy as np\n",
    "from vvasp.VizClasses import NeuropixelsChronicHolder\n",
    "from vvasp.atlas_utils import Atlas\n",
    "import pyvista as pv\n",
    "from labdata.schema import *"
   ]
  },
  {
   "cell_type": "code",
   "execution_count": 29,
   "metadata": {},
   "outputs": [
    {
     "data": {
      "text/html": [
       "\n",
       "    \n",
       "    <style type=\"text/css\">\n",
       "        .Table{\n",
       "            border-collapse:collapse;\n",
       "        }\n",
       "        .Table th{\n",
       "            background: #A0A0A0; color: #ffffff; padding:4px; border:#f0e0e0 1px solid;\n",
       "            font-weight: normal; font-family: monospace; font-size: 100%;\n",
       "        }\n",
       "        .Table td{\n",
       "            padding:4px; border:#f0e0e0 1px solid; font-size:100%;\n",
       "        }\n",
       "        .Table tr:nth-child(odd){\n",
       "            background: #ffffff;\n",
       "            color: #000000;\n",
       "        }\n",
       "        .Table tr:nth-child(even){\n",
       "            background: #f3f1ff;\n",
       "            color: #000000;\n",
       "        }\n",
       "        /* Tooltip container */\n",
       "        .djtooltip {\n",
       "        }\n",
       "        /* Tooltip text */\n",
       "        .djtooltip .djtooltiptext {\n",
       "            visibility: hidden;\n",
       "            width: 120px;\n",
       "            background-color: black;\n",
       "            color: #fff;\n",
       "            text-align: center;\n",
       "            padding: 5px 0;\n",
       "            border-radius: 6px;\n",
       "            /* Position the tooltip text - see examples below! */\n",
       "            position: absolute;\n",
       "            z-index: 1;\n",
       "        }\n",
       "        #primary {\n",
       "            font-weight: bold;\n",
       "            color: black;\n",
       "        }\n",
       "        #nonprimary {\n",
       "            font-weight: normal;\n",
       "            color: white;\n",
       "        }\n",
       "\n",
       "        /* Show the tooltip text when you mouse over the tooltip container */\n",
       "        .djtooltip:hover .djtooltiptext {\n",
       "            visibility: visible;\n",
       "        }\n",
       "    </style>\n",
       "    \n",
       "    <b></b>\n",
       "        <div style=\"max-height:1000px;max-width:1500px;overflow:auto;\">\n",
       "        <table border=\"1\" class=\"Table\">\n",
       "            <thead> <tr style=\"text-align: right;\"> <th> <div class=\"djtooltip\">\n",
       "                            <p id=\"primary\">subject_name</p>\n",
       "                            <span class=\"djtooltiptext\">unique mouse id</span>\n",
       "                        </div></th><th><div class=\"djtooltip\">\n",
       "                            <p id=\"primary\">procedure_type</p>\n",
       "                            <span class=\"djtooltiptext\">Defines procedures that are not an experimental session</span>\n",
       "                        </div></th><th><div class=\"djtooltip\">\n",
       "                            <p id=\"primary\">procedure_datetime</p>\n",
       "                            <span class=\"djtooltiptext\"></span>\n",
       "                        </div></th><th><div class=\"djtooltip\">\n",
       "                            <p id=\"primary\">probe_id</p>\n",
       "                            <span class=\"djtooltiptext\">probe id to keep track or re-uses</span>\n",
       "                        </div></th><th><div class=\"djtooltip\">\n",
       "                            <p id=\"nonprimary\">atlas_id</p>\n",
       "                            <span class=\"djtooltiptext\"></span>\n",
       "                        </div></th><th><div class=\"djtooltip\">\n",
       "                            <p id=\"nonprimary\">region_acronym</p>\n",
       "                            <span class=\"djtooltiptext\"></span>\n",
       "                        </div></th><th><div class=\"djtooltip\">\n",
       "                            <p id=\"nonprimary\">holder_id</p>\n",
       "                            <span class=\"djtooltiptext\"></span>\n",
       "                        </div></th><th><div class=\"djtooltip\">\n",
       "                            <p id=\"nonprimary\">hemisphere</p>\n",
       "                            <span class=\"djtooltiptext\"></span>\n",
       "                        </div> </th> </tr> </thead>\n",
       "            <tbody> <tr> <td>MM008</td>\n",
       "<td>chronic implant</td>\n",
       "<td>2023-03-14 20:00:00</td>\n",
       "<td>19454421152</td>\n",
       "<td>allen-ccf</td>\n",
       "<td>MOp</td>\n",
       "<td>0</td>\n",
       "<td>left</td></tr><tr><td>MM008</td>\n",
       "<td>chronic implant</td>\n",
       "<td>2023-03-14 20:00:00</td>\n",
       "<td>20097902741</td>\n",
       "<td>allen-ccf</td>\n",
       "<td>ACA</td>\n",
       "<td>0</td>\n",
       "<td>left</td></tr><tr><td>MM008</td>\n",
       "<td>chronic implant</td>\n",
       "<td>2023-03-14 20:00:00</td>\n",
       "<td>20097902851</td>\n",
       "<td>allen-ccf</td>\n",
       "<td>VISp</td>\n",
       "<td>0</td>\n",
       "<td>left</td> </tr> </tbody>\n",
       "        </table>\n",
       "        \n",
       "        <p>Total: 3</p></div>\n",
       "        "
      ],
      "text/plain": [
       "*subject_name  *procedure_typ *procedure_dat *probe_id      atlas_id      region_acronym holder_id     hemisphere    \n",
       "+------------+ +------------+ +------------+ +------------+ +-----------+ +------------+ +-----------+ +------------+\n",
       "MM008          chronic implan 2023-03-14 20: 19454421152    allen-ccf     MOp            0             left          \n",
       "MM008          chronic implan 2023-03-14 20: 20097902741    allen-ccf     ACA            0             left          \n",
       "MM008          chronic implan 2023-03-14 20: 20097902851    allen-ccf     VISp           0             left          \n",
       " (Total: 3)"
      ]
     },
     "execution_count": 29,
     "metadata": {},
     "output_type": "execute_result"
    }
   ],
   "source": [
    "from labdata.schema import *\n",
    "from labdata import chronic_paper as cp\n",
    "cp.TargetedRegion()\n"
   ]
  },
  {
   "cell_type": "code",
   "execution_count": 26,
   "metadata": {},
   "outputs": [
    {
     "name": "stdout",
     "output_type": "stream",
     "text": [
      "ACA\n",
      "{'subject_name': 'MM008', 'procedure_type': 'chronic implant', 'procedure_datetime': datetime.datetime(2023, 3, 14, 20, 0), 'probe_id': '20097902741', 'atlas_id': 'allen-ccf', 'region_acronym': 'ACA', 'holder_id': 0, 'hemisphere': 'left'}\n",
      "CP\n",
      "{'subject_name': 'MM008', 'procedure_type': 'chronic implant', 'procedure_datetime': datetime.datetime(2023, 3, 14, 20, 0), 'probe_id': '20097902741', 'atlas_id': 'allen-ccf', 'region_acronym': 'CP', 'holder_id': 0, 'hemisphere': 'left'}\n",
      "MOp\n",
      "{'subject_name': 'MM008', 'procedure_type': 'chronic implant', 'procedure_datetime': datetime.datetime(2023, 3, 14, 20, 0), 'probe_id': '19454421152', 'atlas_id': 'allen-ccf', 'region_acronym': 'MOp', 'holder_id': 0, 'hemisphere': 'left'}\n",
      "CP\n",
      "{'subject_name': 'MM008', 'procedure_type': 'chronic implant', 'procedure_datetime': datetime.datetime(2023, 3, 14, 20, 0), 'probe_id': '19454421152', 'atlas_id': 'allen-ccf', 'region_acronym': 'CP', 'holder_id': 0, 'hemisphere': 'left'}\n",
      "VISp\n",
      "{'subject_name': 'MM008', 'procedure_type': 'chronic implant', 'procedure_datetime': datetime.datetime(2023, 3, 14, 20, 0), 'probe_id': '20097902851', 'atlas_id': 'allen-ccf', 'region_acronym': 'VISp', 'holder_id': 0, 'hemisphere': 'left'}\n"
     ]
    }
   ],
   "source": [
    "subjects = cp.IncludedSubjects().fetch('subject_name')\n",
    "subjects\n",
    "subject = 'MM008'\n",
    "targets = [['ACA','CP'], ['MOp','CP'], ['VISp']]\n",
    "holder_ids = [0,0,0]\n",
    "hemisphere = 'left'\n",
    "insertions = (ProbeInsertion() & dict(subject_name=subject)).proj().fetch(order_by='insertion_ap',as_dict=True)[::-1]\n",
    "\n",
    "for h, ins, targs in zip(holder_ids, insertions, targets):\n",
    "    for t in targs:\n",
    "        print(t)\n",
    "        reg = (Atlas.Region() & dict(region_acronym=t)).proj().fetch1()\n",
    "        key = dict(**ins, **reg, holder_id=h, hemisphere=hemisphere)\n",
    "        print(key)\n",
    "        cp.TargetedRegion.insert1(key, skip_duplicates=True)"
   ]
  },
  {
   "cell_type": "code",
   "execution_count": null,
   "metadata": {},
   "outputs": [],
   "source": [
    "for dict in insertions:\n",
    "    print(dict)"
   ]
  },
  {
   "cell_type": "code",
   "execution_count": null,
   "metadata": {},
   "outputs": [],
   "source": [
    "insertions2plot = Probe() * ProbeInsertion() & f'subject_name = \"{SUBJECT}\"'\n",
    "#insertions2plot = Probe() * ProbeInsertion() & 'subject_name = \"JC131\"'\n",
    "#insertions2plot = Probe() * ProbeInsertion() & 'subject_name = \"JC164\"'\n",
    "insertions = insertions2plot.fetch(format='frame')\n",
    "insertions.head()"
   ]
  },
  {
   "cell_type": "code",
   "execution_count": null,
   "metadata": {},
   "outputs": [],
   "source": [
    "plotter = pv.Plotter(notebook=True)\n",
    "plotter.show()\n",
    "#from pyvistaqt import BackgroundPlotter\n",
    "#plotter = BackgroundPlotter()\n",
    "\n",
    "atlas = Atlas(plotter, min_tree_depth=8, max_tree_depth=8)\n",
    "#atlas.add_atlas_region_mesh('MOp')\n",
    "atlas.add_atlas_region_mesh('LP')\n",
    "#atlas.add_atlas_region_mesh('ACAd')\n",
    "#atlas.add_atlas_region_mesh('ACAv')\n",
    "atlas.add_atlas_region_mesh('VISp')\n",
    "#atlas.add_atlas_region_mesh('CP')\n",
    "\n",
    "probes = []\n",
    "for i, entrypoint in insertions.iterrows():\n",
    "    entry_point = entrypoint[['insertion_ml','insertion_ap']].values\n",
    "    depth = entrypoint['insertion_depth']\n",
    "    angles = entrypoint[['insertion_el','insertion_spin','insertion_az']].values\n",
    "    if entrypoint.probe_type == '24':\n",
    "        prb = NeuropixelsChronicHolder('NP24','head_fixed', plotter, root_intersection_mesh=atlas.meshes['root'])\n",
    "    elif entrypoint.probe_type == '0':\n",
    "        prb = NeuropixelsChronicHolder('NP1','head_fixed', plotter, root_intersection_mesh=atlas.meshes['root'])\n",
    "    prb.drive_probe_from_entry(entry_point, angles, depth)\n",
    "    prb.make_inactive()\n",
    "    #prb.set_location(np.concatenate([entry_point,np.array([0])]), angles*0)\n",
    "    probes.append(prb)\n",
    "\n",
    "plotter.isometric_view()"
   ]
  },
  {
   "cell_type": "code",
   "execution_count": null,
   "metadata": {},
   "outputs": [],
   "source": [
    "from pathlib import Path\n",
    "savedir = Path(r'C:\\Data\\churchland\\chronic_manuscript_figs\\raw_plots\\trajectories')\n",
    "\n",
    "#plotter.save_graphic(savedir / f'{SUBJECT}_trajectories.pdf', raster=False)\n",
    "plotter.screenshot(savedir / f'{SUBJECT}_trajectories.png', return_img=False, scale=5)"
   ]
  }
 ],
 "metadata": {
  "kernelspec": {
   "display_name": "spks",
   "language": "python",
   "name": "python3"
  },
  "language_info": {
   "codemirror_mode": {
    "name": "ipython",
    "version": 3
   },
   "file_extension": ".py",
   "mimetype": "text/x-python",
   "name": "python",
   "nbconvert_exporter": "python",
   "pygments_lexer": "ipython3",
   "version": "3.11.5"
  }
 },
 "nbformat": 4,
 "nbformat_minor": 2
}
