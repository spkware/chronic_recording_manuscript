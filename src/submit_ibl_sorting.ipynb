{
 "cells": [
  {
   "cell_type": "markdown",
   "metadata": {},
   "source": [
    "## Submit spike sorting\n",
    "This script generates cluster jobs for spikesorting (IBL pipeline)"
   ]
  },
  {
   "cell_type": "code",
   "execution_count": 1,
   "metadata": {},
   "outputs": [],
   "source": [
    "import labdatatools as ldt\n",
    "from pathlib import Path\n",
    "import numpy as np\n",
    "import subprocess\n",
    "\n",
    "SUBJECT = 'MM012' #TODO: 9,10,11,12,13,15\n",
    "N_PROBES = 3 # This is actually n shanks because IBL breaks shanks into individual binary files\n",
    "GPU = 'RTX2080Ti'\n",
    "CLUSTER = 'Hoffman' #Hoffman or Hodgkin, the cluster to submit to"
   ]
  },
  {
   "cell_type": "code",
   "execution_count": 2,
   "metadata": {},
   "outputs": [],
   "source": [
    "files = ldt.rclone_list_files(SUBJECT).dropna()\n",
    "ephys_sessions = files[files.dirname.str.contains('raw_ephys_data')]\n",
    "ksfolders = files[files.dirname.str.contains('spike_sorters/kilosort2.5/') & files.filename.str.contains('spike_times.npy')]\n",
    "ephys_sessions = np.unique([f'{s.session}/{s.datatype}' for i,s in ephys_sessions.iterrows()])"
   ]
  },
  {
   "cell_type": "code",
   "execution_count": 3,
   "metadata": {},
   "outputs": [
    {
     "name": "stdout",
     "output_type": "stream",
     "text": [
      "There are 42 sorted sessions\n",
      "There are 13 unsorted sessions\n"
     ]
    }
   ],
   "source": [
    "sorted_sessions, unsorted_sessions = [],[]\n",
    "for sess in ephys_sessions:\n",
    "    fold = ksfolders.dirname.str.contains(sess)\n",
    "    if sum(fold) == N_PROBES:\n",
    "        sorted_sessions.append(sess)\n",
    "    else:\n",
    "        unsorted_sessions.append(sess)\n",
    "\n",
    "print(f'There are {len(sorted_sessions)} sorted sessions')\n",
    "print(f'There are {len(unsorted_sessions)} unsorted sessions')"
   ]
  },
  {
   "cell_type": "code",
   "execution_count": 4,
   "metadata": {},
   "outputs": [
    {
     "name": "stdout",
     "output_type": "stream",
     "text": [
      "labdata submit spksibl -a MM012 -s 2023-08-21/001 --module matlab --conda-env spks --queue gpu,RTX2080Ti,h_rt=6:00:00,cuda=1 --delete-session --overwrite -- -t \\$TMPDIR\n",
      "labdata submit spksibl -a MM012 -s 2023-08-24/001 --module matlab --conda-env spks --queue gpu,RTX2080Ti,h_rt=6:00:00,cuda=1 --delete-session --overwrite -- -t \\$TMPDIR\n",
      "labdata submit spksibl -a MM012 -s 2023-09-01/001 --module matlab --conda-env spks --queue gpu,RTX2080Ti,h_rt=6:00:00,cuda=1 --delete-session --overwrite -- -t \\$TMPDIR\n",
      "labdata submit spksibl -a MM012 -s 2023-09-07/001 --module matlab --conda-env spks --queue gpu,RTX2080Ti,h_rt=6:00:00,cuda=1 --delete-session --overwrite -- -t \\$TMPDIR\n",
      "labdata submit spksibl -a MM012 -s 2023-09-11/001 --module matlab --conda-env spks --queue gpu,RTX2080Ti,h_rt=6:00:00,cuda=1 --delete-session --overwrite -- -t \\$TMPDIR\n",
      "labdata submit spksibl -a MM012 -s 2023-09-12/001 --module matlab --conda-env spks --queue gpu,RTX2080Ti,h_rt=6:00:00,cuda=1 --delete-session --overwrite -- -t \\$TMPDIR\n",
      "labdata submit spksibl -a MM012 -s 2023-10-05/001 --module matlab --conda-env spks --queue gpu,RTX2080Ti,h_rt=6:00:00,cuda=1 --delete-session --overwrite -- -t \\$TMPDIR\n",
      "labdata submit spksibl -a MM012 -s 2023-10-09/001 --module matlab --conda-env spks --queue gpu,RTX2080Ti,h_rt=6:00:00,cuda=1 --delete-session --overwrite -- -t \\$TMPDIR\n",
      "labdata submit spksibl -a MM012 -s 2023-10-10/001 --module matlab --conda-env spks --queue gpu,RTX2080Ti,h_rt=6:00:00,cuda=1 --delete-session --overwrite -- -t \\$TMPDIR\n",
      "labdata submit spksibl -a MM012 -s 2023-10-18/001 --module matlab --conda-env spks --queue gpu,RTX2080Ti,h_rt=6:00:00,cuda=1 --delete-session --overwrite -- -t \\$TMPDIR\n",
      "labdata submit spksibl -a MM012 -s 2023-10-25/003 --module matlab --conda-env spks --queue gpu,RTX2080Ti,h_rt=6:00:00,cuda=1 --delete-session --overwrite -- -t \\$TMPDIR\n",
      "labdata submit spksibl -a MM012 -s 2023-10-26/001 --module matlab --conda-env spks --queue gpu,RTX2080Ti,h_rt=6:00:00,cuda=1 --delete-session --overwrite -- -t \\$TMPDIR\n",
      "labdata submit spksibl -a MM012 -s 2023-10-27/001 --module matlab --conda-env spks --queue gpu,RTX2080Ti,h_rt=6:00:00,cuda=1 --delete-session --overwrite -- -t \\$TMPDIR\n"
     ]
    }
   ],
   "source": [
    "for s in unsorted_sessions:\n",
    "    if CLUSTER == 'Hoffman':\n",
    "        cmd = f'labdata submit spksibl -a {SUBJECT} -s {s} --module matlab --conda-env spks --queue gpu,{GPU},h_rt=6:00:00,cuda=1 --delete-session --overwrite -- -t \\$TMPDIR' # for hoffman\n",
    "    elif CLUSTER == 'Hodgkin':\n",
    "        cmd = f'labdata submit spksibl -a {SUBJECT} -s {s} -g 1 -n 8 -m 50 --delete-session --overwrite -- -t /scratch' # for hodgkin\n",
    "    print(cmd)"
   ]
  }
 ],
 "metadata": {
  "kernelspec": {
   "display_name": "churchlandenv",
   "language": "python",
   "name": "python3"
  },
  "language_info": {
   "codemirror_mode": {
    "name": "ipython",
    "version": 3
   },
   "file_extension": ".py",
   "mimetype": "text/x-python",
   "name": "python",
   "nbconvert_exporter": "python",
   "pygments_lexer": "ipython3",
   "version": "3.10.12"
  }
 },
 "nbformat": 4,
 "nbformat_minor": 2
}
