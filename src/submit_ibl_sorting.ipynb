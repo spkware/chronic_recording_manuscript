{
 "cells": [
  {
   "cell_type": "code",
   "execution_count": 1,
   "metadata": {},
   "outputs": [],
   "source": [
    "import labdatatools as ldt\n",
    "from pathlib import Path\n",
    "import numpy as np\n",
    "import subprocess\n",
    "\n",
    "SUBJECT = 'MM013'\n",
    "N_PROBES = 6\n",
    "GPU = 'RTX2080Ti'"
   ]
  },
  {
   "cell_type": "code",
   "execution_count": 7,
   "metadata": {},
   "outputs": [
    {
     "data": {
      "text/plain": [
       "' -e hello friend'"
      ]
     },
     "execution_count": 7,
     "metadata": {},
     "output_type": "execute_result"
    }
   ],
   "source": [
    "excludes = [\"hello\",\"friend\"]\n",
    "cmd = ''\n",
    "cmd += ' -e {0}'.format(' '.join(excludes))\n",
    "cmd"
   ]
  },
  {
   "cell_type": "code",
   "execution_count": 2,
   "metadata": {},
   "outputs": [],
   "source": [
    "files = ldt.rclone_list_files(SUBJECT).dropna()\n",
    "ephys_sessions = files[files.dirname.str.contains('raw_ephys_data')]\n",
    "ksfolders = files[files.dirname.str.contains('spike_sorters/kilosort2.5/') & files.filename.str.contains('spike_times.npy')]\n",
    "ephys_sessions = np.unique([f'{s.session}/{s.datatype}' for i,s in ephys_sessions.iterrows()])"
   ]
  },
  {
   "cell_type": "code",
   "execution_count": 3,
   "metadata": {},
   "outputs": [
    {
     "name": "stdout",
     "output_type": "stream",
     "text": [
      "There are 27 sorted sessions\n",
      "There are 23 unsorted sessions\n"
     ]
    }
   ],
   "source": [
    "sorted_sessions, unsorted_sessions = [],[]\n",
    "for sess in ephys_sessions:\n",
    "    fold = ksfolders.dirname.str.contains(sess)\n",
    "    if sum(fold) == N_PROBES:\n",
    "        sorted_sessions.append(sess)\n",
    "    else:\n",
    "        unsorted_sessions.append(sess)\n",
    "\n",
    "print(f'There are {len(sorted_sessions)} sorted sessions')\n",
    "print(f'There are {len(unsorted_sessions)} unsorted sessions')"
   ]
  },
  {
   "cell_type": "code",
   "execution_count": 29,
   "metadata": {},
   "outputs": [
    {
     "name": "stdout",
     "output_type": "stream",
     "text": [
      "labdata submit spksibl -a MM013 -s 2023-08-16/001 --module matlab --conda-env spks --queue gpu,RTX2080Ti,h_rt=6:00:00,cuda=1 --delete-session --overwrite -- -t \\$TMPDIR\n",
      "labdata submit spksibl -a MM013 -s 2023-08-18/001 --module matlab --conda-env spks --queue gpu,RTX2080Ti,h_rt=6:00:00,cuda=1 --delete-session --overwrite -- -t \\$TMPDIR\n",
      "labdata submit spksibl -a MM013 -s 2023-08-18/002 --module matlab --conda-env spks --queue gpu,RTX2080Ti,h_rt=6:00:00,cuda=1 --delete-session --overwrite -- -t \\$TMPDIR\n",
      "labdata submit spksibl -a MM013 -s 2023-08-23/001 --module matlab --conda-env spks --queue gpu,RTX2080Ti,h_rt=6:00:00,cuda=1 --delete-session --overwrite -- -t \\$TMPDIR\n",
      "labdata submit spksibl -a MM013 -s 2023-08-24/001 --module matlab --conda-env spks --queue gpu,RTX2080Ti,h_rt=6:00:00,cuda=1 --delete-session --overwrite -- -t \\$TMPDIR\n",
      "labdata submit spksibl -a MM013 -s 2023-08-29/001 --module matlab --conda-env spks --queue gpu,RTX2080Ti,h_rt=6:00:00,cuda=1 --delete-session --overwrite -- -t \\$TMPDIR\n",
      "labdata submit spksibl -a MM013 -s 2023-08-31/001 --module matlab --conda-env spks --queue gpu,RTX2080Ti,h_rt=6:00:00,cuda=1 --delete-session --overwrite -- -t \\$TMPDIR\n",
      "labdata submit spksibl -a MM013 -s 2023-09-01/001 --module matlab --conda-env spks --queue gpu,RTX2080Ti,h_rt=6:00:00,cuda=1 --delete-session --overwrite -- -t \\$TMPDIR\n",
      "labdata submit spksibl -a MM013 -s 2023-09-06/001 --module matlab --conda-env spks --queue gpu,RTX2080Ti,h_rt=6:00:00,cuda=1 --delete-session --overwrite -- -t \\$TMPDIR\n",
      "labdata submit spksibl -a MM013 -s 2023-09-11/001 --module matlab --conda-env spks --queue gpu,RTX2080Ti,h_rt=6:00:00,cuda=1 --delete-session --overwrite -- -t \\$TMPDIR\n",
      "labdata submit spksibl -a MM013 -s 2023-09-12/001 --module matlab --conda-env spks --queue gpu,RTX2080Ti,h_rt=6:00:00,cuda=1 --delete-session --overwrite -- -t \\$TMPDIR\n",
      "labdata submit spksibl -a MM013 -s 2023-09-13/001 --module matlab --conda-env spks --queue gpu,RTX2080Ti,h_rt=6:00:00,cuda=1 --delete-session --overwrite -- -t \\$TMPDIR\n",
      "labdata submit spksibl -a MM013 -s 2023-09-14/001 --module matlab --conda-env spks --queue gpu,RTX2080Ti,h_rt=6:00:00,cuda=1 --delete-session --overwrite -- -t \\$TMPDIR\n",
      "labdata submit spksibl -a MM013 -s 2023-09-15/001 --module matlab --conda-env spks --queue gpu,RTX2080Ti,h_rt=6:00:00,cuda=1 --delete-session --overwrite -- -t \\$TMPDIR\n",
      "labdata submit spksibl -a MM013 -s 2023-09-18/001 --module matlab --conda-env spks --queue gpu,RTX2080Ti,h_rt=6:00:00,cuda=1 --delete-session --overwrite -- -t \\$TMPDIR\n",
      "labdata submit spksibl -a MM013 -s 2023-09-19/001 --module matlab --conda-env spks --queue gpu,RTX2080Ti,h_rt=6:00:00,cuda=1 --delete-session --overwrite -- -t \\$TMPDIR\n",
      "labdata submit spksibl -a MM013 -s 2023-09-20/001 --module matlab --conda-env spks --queue gpu,RTX2080Ti,h_rt=6:00:00,cuda=1 --delete-session --overwrite -- -t \\$TMPDIR\n",
      "labdata submit spksibl -a MM013 -s 2023-09-21/001 --module matlab --conda-env spks --queue gpu,RTX2080Ti,h_rt=6:00:00,cuda=1 --delete-session --overwrite -- -t \\$TMPDIR\n",
      "labdata submit spksibl -a MM013 -s 2023-09-26/001 --module matlab --conda-env spks --queue gpu,RTX2080Ti,h_rt=6:00:00,cuda=1 --delete-session --overwrite -- -t \\$TMPDIR\n",
      "labdata submit spksibl -a MM013 -s 2023-09-27/001 --module matlab --conda-env spks --queue gpu,RTX2080Ti,h_rt=6:00:00,cuda=1 --delete-session --overwrite -- -t \\$TMPDIR\n",
      "labdata submit spksibl -a MM013 -s 2023-09-28/001 --module matlab --conda-env spks --queue gpu,RTX2080Ti,h_rt=6:00:00,cuda=1 --delete-session --overwrite -- -t \\$TMPDIR\n",
      "labdata submit spksibl -a MM013 -s 2023-10-18/001 --module matlab --conda-env spks --queue gpu,RTX2080Ti,h_rt=6:00:00,cuda=1 --delete-session --overwrite -- -t \\$TMPDIR\n",
      "labdata submit spksibl -a MM013 -s 2023-10-19/001 --module matlab --conda-env spks --queue gpu,RTX2080Ti,h_rt=6:00:00,cuda=1 --delete-session --overwrite -- -t \\$TMPDIR\n"
     ]
    }
   ],
   "source": [
    "for s in unsorted_sessions:\n",
    "    #cmd = f'labdata submit spksibl -a {SUBJECT} -s {s} --excludes \"\\*\\*[a-z].ap.cbin\" \"\\*\\*.bin\" \"\\*\\*.lf\\*bin\" --module matlab --conda-env spks --queue gpu,{GPU},h_rt=6:00:00,cuda=1 --delete-session --overwrite -- -t \\$TMPDIR' # for hoffman\n",
    "    #cmd = f'labdata submit spksibl -a {SUBJECT} -s {s} --excludes \"\\*\\*[a-z].ap.cbin\" \"\\*\\*.bin\" \"\\*\\*.lf\\*bin\" -g 1 -n 8 -m 50 --delete-session --overwrite -- -t /scratch' # for hodgkin\n",
    "    cmd = f'labdata submit spksibl -a {SUBJECT} -s {s} --module matlab --conda-env spks --queue gpu,{GPU},h_rt=6:00:00,cuda=1 --delete-session --overwrite -- -t \\$TMPDIR' # for hoffman\n",
    "    #cmd = f'labdata submit spksibl -a {SUBJECT} -s {s} -g 1 -n 8 -m 50 --delete-session --overwrite -- -t /scratch' # for hodgkin\n",
    "    print(cmd)"
   ]
  }
 ],
 "metadata": {
  "kernelspec": {
   "display_name": "churchlandenv",
   "language": "python",
   "name": "python3"
  },
  "language_info": {
   "codemirror_mode": {
    "name": "ipython",
    "version": 3
   },
   "file_extension": ".py",
   "mimetype": "text/x-python",
   "name": "python",
   "nbconvert_exporter": "python",
   "pygments_lexer": "ipython3",
   "version": "3.10.12"
  }
 },
 "nbformat": 4,
 "nbformat_minor": 2
}
