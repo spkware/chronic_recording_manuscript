{
 "cells": [
  {
   "cell_type": "code",
   "execution_count": 2,
   "metadata": {
    "execution": {
     "iopub.execute_input": "2024-06-09T15:35:40.498068Z",
     "iopub.status.busy": "2024-06-09T15:35:40.497609Z",
     "iopub.status.idle": "2024-06-09T15:35:57.144744Z",
     "shell.execute_reply": "2024-06-09T15:35:57.143457Z",
     "shell.execute_reply.started": "2024-06-09T15:35:40.498040Z"
    }
   },
   "outputs": [
    {
     "name": "stderr",
     "output_type": "stream",
     "text": [
      "[2024-06-09 08:35:41,465][INFO]: Connecting admin@churchland-data.cmojfwfr0b9t.us-west-2.rds.amazonaws.com:3306\n",
      "[2024-06-09 08:35:43,557][INFO]: Connected admin@churchland-data.cmojfwfr0b9t.us-west-2.rds.amazonaws.com:3306\n"
     ]
    }
   ],
   "source": [
    "from labdata.schema import *\n",
    "from labdata import chronic_paper"
   ]
  },
  {
   "cell_type": "code",
   "execution_count": 3,
   "metadata": {
    "execution": {
     "iopub.execute_input": "2024-06-09T15:36:00.363347Z",
     "iopub.status.busy": "2024-06-09T15:36:00.363055Z",
     "iopub.status.idle": "2024-06-09T15:36:10.158093Z",
     "shell.execute_reply": "2024-06-09T15:36:10.156446Z",
     "shell.execute_reply.started": "2024-06-09T15:36:00.363324Z"
    }
   },
   "outputs": [
    {
     "name": "stdout",
     "output_type": "stream",
     "text": [
      "We performed 42 chronic insertions (27 probes) into 16 mice and recorded 723 sessions.\n",
      "We extracted 32 functional probes successfully (76%).\n",
      "We re-implanted probes 16 times (38%).\n",
      "We spike sorted  1388 probe*sessions.\n"
     ]
    }
   ],
   "source": [
    "# TODO: add missing procedures for mice\n",
    "insertions_query = Procedure() & 'procedure_type = \"chronic implant\"'\n",
    "chronic_mice = np.unique(insertions_query.fetch('subject_name'))\n",
    "chronic_sessions_query = EphysRecording() & [dict(subject_name = c) for c in chronic_mice]\n",
    "n_sorted_prbs = len(SpikeSorting() & 'parameter_set_num = 5')\n",
    "\n",
    "chronic_probe_ids = np.unique((EphysRecording.ProbeSetting() & chronic_sessions_query).fetch('probe_id')).astype(int)\n",
    "\n",
    "insertions = ((pd.DataFrame((EphysRecording.ProbeSetting() & chronic_sessions_query).proj('probe_id').fetch())[\n",
    "               ['subject_name','probe_id']].drop_duplicates()))\n",
    "\n",
    "\n",
    "reused = 0\n",
    "for p in chronic_probe_ids:\n",
    "    n = len((ProbeInsertion() & f'probe_id = \"{p}\"'))\n",
    "    if n>1:\n",
    "        reused += n-1 # dont count with the first use\n",
    "reused_percent = int(100*reused/len(insertions))\n",
    "print(f'We performed {len(insertions)} chronic insertions ({len(chronic_probe_ids)} probes) into {len(chronic_mice)} mice and recorded {len(chronic_sessions_query)} sessions.')\n",
    "extract_percent = int(100*(len(((ProbeExtraction() & \"extraction_successful = 1\"))))/len(ProbeExtraction()))\n",
    "print(f'We extracted {len((ProbeExtraction() & \"extraction_successful = 1\"))} functional probes successfully ({extract_percent}%).')\n",
    "print(f'We re-implanted probes {reused} times ({reused_percent}%).')\n",
    "print(f'We spike sorted  {n_sorted_prbs} probe*sessions.')\n",
    "# insertions"
   ]
  },
  {
   "cell_type": "code",
   "execution_count": 15,
   "metadata": {
    "execution": {
     "iopub.execute_input": "2024-06-09T15:38:29.702105Z",
     "iopub.status.busy": "2024-06-09T15:38:29.701648Z",
     "iopub.status.idle": "2024-06-09T15:38:29.886858Z",
     "shell.execute_reply": "2024-06-09T15:38:29.886051Z",
     "shell.execute_reply.started": "2024-06-09T15:38:29.702082Z"
    }
   },
   "outputs": [
    {
     "data": {
      "text/plain": [
       "array(['B6129SF1/J', 'C57BL/6J',\n",
       "       'FezF2-2A-CreER;R26-LNL-GtACR1-Fred-Kv2.1',\n",
       "       'R26-LNL-GtACR1-Fred-Kv2.1'], dtype=object)"
      ]
     },
     "execution_count": 15,
     "metadata": {},
     "output_type": "execute_result"
    }
   ],
   "source": [
    "np.unique((Subject() & [dict(subject_name  = s) for s in chronic_mice]).fetch('strain_name'))"
   ]
  },
  {
   "cell_type": "code",
   "execution_count": 25,
   "metadata": {
    "execution": {
     "iopub.execute_input": "2024-06-12T02:31:25.288267Z",
     "iopub.status.busy": "2024-06-12T02:31:25.286896Z",
     "iopub.status.idle": "2024-06-12T02:31:25.845983Z",
     "shell.execute_reply": "2024-06-12T02:31:25.844443Z",
     "shell.execute_reply.started": "2024-06-12T02:31:25.288197Z"
    }
   },
   "outputs": [
    {
     "name": "stderr",
     "output_type": "stream",
     "text": [
      "[2024-06-11 19:31:25,306][WARNING]: MySQL server has gone away. Reconnecting to the server.\n"
     ]
    },
    {
     "data": {
      "text/html": [
       "\n",
       "    \n",
       "    <style type=\"text/css\">\n",
       "        .Table{\n",
       "            border-collapse:collapse;\n",
       "        }\n",
       "        .Table th{\n",
       "            background: #A0A0A0; color: #ffffff; padding:4px; border:#f0e0e0 1px solid;\n",
       "            font-weight: normal; font-family: monospace; font-size: 100%;\n",
       "        }\n",
       "        .Table td{\n",
       "            padding:4px; border:#f0e0e0 1px solid; font-size:100%;\n",
       "        }\n",
       "        .Table tr:nth-child(odd){\n",
       "            background: #ffffff;\n",
       "            color: #000000;\n",
       "        }\n",
       "        .Table tr:nth-child(even){\n",
       "            background: #f3f1ff;\n",
       "            color: #000000;\n",
       "        }\n",
       "        /* Tooltip container */\n",
       "        .djtooltip {\n",
       "        }\n",
       "        /* Tooltip text */\n",
       "        .djtooltip .djtooltiptext {\n",
       "            visibility: hidden;\n",
       "            width: 120px;\n",
       "            background-color: black;\n",
       "            color: #fff;\n",
       "            text-align: center;\n",
       "            padding: 5px 0;\n",
       "            border-radius: 6px;\n",
       "            /* Position the tooltip text - see examples below! */\n",
       "            position: absolute;\n",
       "            z-index: 1;\n",
       "        }\n",
       "        #primary {\n",
       "            font-weight: bold;\n",
       "            color: black;\n",
       "        }\n",
       "        #nonprimary {\n",
       "            font-weight: normal;\n",
       "            color: white;\n",
       "        }\n",
       "\n",
       "        /* Show the tooltip text when you mouse over the tooltip container */\n",
       "        .djtooltip:hover .djtooltiptext {\n",
       "            visibility: visible;\n",
       "        }\n",
       "    </style>\n",
       "    \n",
       "    <b></b>\n",
       "        <div style=\"max-height:1000px;max-width:1500px;overflow:auto;\">\n",
       "        <table border=\"1\" class=\"Table\">\n",
       "            <thead> <tr style=\"text-align: right;\"> <th> <div class=\"djtooltip\">\n",
       "                            <p id=\"primary\">subject_name</p>\n",
       "                            <span class=\"djtooltiptext\">unique mouse id</span>\n",
       "                        </div></th><th><div class=\"djtooltip\">\n",
       "                            <p id=\"primary\">session_name</p>\n",
       "                            <span class=\"djtooltiptext\">session identifier</span>\n",
       "                        </div></th><th><div class=\"djtooltip\">\n",
       "                            <p id=\"primary\">dataset_name</p>\n",
       "                            <span class=\"djtooltiptext\"></span>\n",
       "                        </div></th><th><div class=\"djtooltip\">\n",
       "                            <p id=\"primary\">probe_num</p>\n",
       "                            <span class=\"djtooltiptext\">probe number</span>\n",
       "                        </div></th><th><div class=\"djtooltip\">\n",
       "                            <p id=\"nonprimary\">probe_id</p>\n",
       "                            <span class=\"djtooltiptext\">probe id to keep track or re-uses</span>\n",
       "                        </div></th><th><div class=\"djtooltip\">\n",
       "                            <p id=\"nonprimary\">configuration_id</p>\n",
       "                            <span class=\"djtooltiptext\"></span>\n",
       "                        </div></th><th><div class=\"djtooltip\">\n",
       "                            <p id=\"nonprimary\">sampling_rate</p>\n",
       "                            <span class=\"djtooltiptext\"></span>\n",
       "                        </div> </th> </tr> </thead>\n",
       "            <tbody> <tr> <td>JC140</td>\n",
       "<td>20231205_231400</td>\n",
       "<td>ephys_g0</td>\n",
       "<td>0</td>\n",
       "<td>22420007362</td>\n",
       "<td>2</td>\n",
       "<td>30000.00000000000000</td></tr><tr><td>JC140</td>\n",
       "<td>20231205_231400</td>\n",
       "<td>ephys_g0</td>\n",
       "<td>1</td>\n",
       "<td>22420007691</td>\n",
       "<td>2</td>\n",
       "<td>30000.00000000000000</td></tr><tr><td>JC140</td>\n",
       "<td>20231205_231400</td>\n",
       "<td>ephys_g0</td>\n",
       "<td>2</td>\n",
       "<td>22420007231</td>\n",
       "<td>2</td>\n",
       "<td>30000.00000000000000</td></tr><tr><td>JC140</td>\n",
       "<td>20231205_231400</td>\n",
       "<td>ephys_g0</td>\n",
       "<td>3</td>\n",
       "<td>22420007301</td>\n",
       "<td>2</td>\n",
       "<td>30000.00000000000000</td></tr><tr><td>JC140</td>\n",
       "<td>20231205_231400</td>\n",
       "<td>ephys_g0</td>\n",
       "<td>4</td>\n",
       "<td>22420007032</td>\n",
       "<td>1</td>\n",
       "<td>30000.00000000000000</td></tr><tr><td>JC140</td>\n",
       "<td>20231205_231400</td>\n",
       "<td>ephys_g0</td>\n",
       "<td>5</td>\n",
       "<td>22420007684</td>\n",
       "<td>1</td>\n",
       "<td>30000.00000000000000</td></tr><tr><td>JC140</td>\n",
       "<td>20231206_140953</td>\n",
       "<td>ephys_g0</td>\n",
       "<td>0</td>\n",
       "<td>22420007362</td>\n",
       "<td>2</td>\n",
       "<td>30000.00000000000000</td></tr><tr><td>JC140</td>\n",
       "<td>20231206_140953</td>\n",
       "<td>ephys_g0</td>\n",
       "<td>1</td>\n",
       "<td>22420007691</td>\n",
       "<td>2</td>\n",
       "<td>30000.00000000000000</td></tr><tr><td>JC140</td>\n",
       "<td>20231206_140953</td>\n",
       "<td>ephys_g0</td>\n",
       "<td>2</td>\n",
       "<td>22420007684</td>\n",
       "<td>1</td>\n",
       "<td>30000.00000000000000</td></tr><tr><td>JC140</td>\n",
       "<td>20231206_140953</td>\n",
       "<td>ephys_g0</td>\n",
       "<td>3</td>\n",
       "<td>22420007301</td>\n",
       "<td>3</td>\n",
       "<td>30000.00000000000000</td></tr><tr><td>JC140</td>\n",
       "<td>20231206_140953</td>\n",
       "<td>ephys_g0</td>\n",
       "<td>4</td>\n",
       "<td>22420007032</td>\n",
       "<td>1</td>\n",
       "<td>30000.00000000000000</td></tr><tr><td>JC140</td>\n",
       "<td>20231206_140953</td>\n",
       "<td>ephys_g0</td>\n",
       "<td>5</td>\n",
       "<td>22420007231</td>\n",
       "<td>2</td>\n",
       "<td>30000.00000000000000</td> </tr> </tbody>\n",
       "        </table>\n",
       "        <p>...</p>\n",
       "        <p>Total: 66</p></div>\n",
       "        "
      ],
      "text/plain": [
       "*subject_name  *session_name  *dataset_name  *probe_num    probe_id       configuration_ sampling_rate \n",
       "+------------+ +------------+ +------------+ +-----------+ +------------+ +------------+ +------------+\n",
       "JC140          20231205_23140 ephys_g0       0             22420007362    2              30000.00000000\n",
       "JC140          20231205_23140 ephys_g0       1             22420007691    2              30000.00000000\n",
       "JC140          20231205_23140 ephys_g0       2             22420007231    2              30000.00000000\n",
       "JC140          20231205_23140 ephys_g0       3             22420007301    2              30000.00000000\n",
       "JC140          20231205_23140 ephys_g0       4             22420007032    1              30000.00000000\n",
       "JC140          20231205_23140 ephys_g0       5             22420007684    1              30000.00000000\n",
       "JC140          20231206_14095 ephys_g0       0             22420007362    2              30000.00000000\n",
       "JC140          20231206_14095 ephys_g0       1             22420007691    2              30000.00000000\n",
       "JC140          20231206_14095 ephys_g0       2             22420007684    1              30000.00000000\n",
       "JC140          20231206_14095 ephys_g0       3             22420007301    3              30000.00000000\n",
       "JC140          20231206_14095 ephys_g0       4             22420007032    1              30000.00000000\n",
       "JC140          20231206_14095 ephys_g0       5             22420007231    2              30000.00000000\n",
       "   ...\n",
       " (Total: 66)"
      ]
     },
     "execution_count": 25,
     "metadata": {},
     "output_type": "execute_result"
    }
   ],
   "source": [
    "EphysRecording.ProbeSetting() & dict(subject_name = 'JC140') "
   ]
  },
  {
   "cell_type": "code",
   "execution_count": null,
   "metadata": {},
   "outputs": [],
   "source": []
  }
 ],
 "metadata": {
  "kernelspec": {
   "display_name": "Python 3 (ipykernel)",
   "language": "python",
   "name": "python3"
  },
  "language_info": {
   "codemirror_mode": {
    "name": "ipython",
    "version": 3
   },
   "file_extension": ".py",
   "mimetype": "text/x-python",
   "name": "python",
   "nbconvert_exporter": "python",
   "pygments_lexer": "ipython3",
   "version": "3.11.7"
  }
 },
 "nbformat": 4,
 "nbformat_minor": 4
}
