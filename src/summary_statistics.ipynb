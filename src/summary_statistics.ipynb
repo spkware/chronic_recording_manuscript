{
 "cells": [
  {
   "cell_type": "code",
   "execution_count": 1,
   "metadata": {
    "execution": {
     "iopub.execute_input": "2024-05-13T01:32:02.246389Z",
     "iopub.status.busy": "2024-05-13T01:32:02.246005Z",
     "iopub.status.idle": "2024-05-13T01:32:07.049991Z",
     "shell.execute_reply": "2024-05-13T01:32:07.047897Z",
     "shell.execute_reply.started": "2024-05-13T01:32:02.246369Z"
    }
   },
   "outputs": [
    {
     "name": "stderr",
     "output_type": "stream",
     "text": [
      "[2024-05-12 18:32:02,856][INFO]: Connecting admin@churchland-data.cmojfwfr0b9t.us-west-2.rds.amazonaws.com:3306\n",
      "[2024-05-12 18:32:03,395][INFO]: Connected admin@churchland-data.cmojfwfr0b9t.us-west-2.rds.amazonaws.com:3306\n"
     ]
    }
   ],
   "source": [
    "from labdata.schema import *"
   ]
  },
  {
   "cell_type": "code",
   "execution_count": 45,
   "metadata": {
    "execution": {
     "iopub.execute_input": "2024-05-13T02:02:55.928775Z",
     "iopub.status.busy": "2024-05-13T02:02:55.928267Z",
     "iopub.status.idle": "2024-05-13T02:02:56.325828Z",
     "shell.execute_reply": "2024-05-13T02:02:56.324717Z",
     "shell.execute_reply.started": "2024-05-13T02:02:55.928747Z"
    }
   },
   "outputs": [
    {
     "name": "stdout",
     "output_type": "stream",
     "text": [
      "We performed 33 chronic insertions (22 probes) into 12 mice and recorded 536 sessions.\n",
      "We spike sorted  915 probe*sessions.\n"
     ]
    }
   ],
   "source": [
    "# TODO: add missing procedures for mice\n",
    "insertions_query = Procedure() & 'procedure_type = \"chronic implant\"'\n",
    "chronic_mice = insertions_query.fetch('subject_name')\n",
    "chronic_sessions_query = EphysRecording() & [dict(subject_name = c) for c in chronic_mice]\n",
    "n_sorted_prbs = len(SpikeSorting() & 'parameter_set_num = 5')\n",
    "\n",
    "chronic_probe_ids = np.unique((EphysRecording.ProbeSetting() & chronic_sessions_query).fetch('probe_id')).astype(int)\n",
    "\n",
    "insertions = ((pd.DataFrame((EphysRecording.ProbeSetting() & chronic_sessions_query).proj('probe_id').fetch())[\n",
    "               ['subject_name','probe_id']].drop_duplicates()))\n",
    "\n",
    "\n",
    "print(f'We performed {len(insertions)} chronic insertions ({len(chronic_probe_ids)} probes) into {len(chronic_mice)} mice and recorded {len(chronic_sessions_query)} sessions.')\n",
    "print(f'We spike sorted  {n_sorted_prbs} probe*sessions.')\n",
    "# insertions"
   ]
  }
 ],
 "metadata": {
  "kernelspec": {
   "display_name": "Python 3 (ipykernel)",
   "language": "python",
   "name": "python3"
  },
  "language_info": {
   "codemirror_mode": {
    "name": "ipython",
    "version": 3
   },
   "file_extension": ".py",
   "mimetype": "text/x-python",
   "name": "python",
   "nbconvert_exporter": "python",
   "pygments_lexer": "ipython3",
   "version": "3.11.7"
  }
 },
 "nbformat": 4,
 "nbformat_minor": 4
}
