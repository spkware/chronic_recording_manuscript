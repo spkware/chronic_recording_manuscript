{
 "cells": [
  {
   "cell_type": "code",
   "execution_count": 1,
   "metadata": {
    "execution": {
     "iopub.execute_input": "2024-05-25T03:22:25.090892Z",
     "iopub.status.busy": "2024-05-25T03:22:25.090840Z",
     "iopub.status.idle": "2024-05-25T03:22:28.636469Z",
     "shell.execute_reply": "2024-05-25T03:22:28.635432Z",
     "shell.execute_reply.started": "2024-05-25T03:22:25.090886Z"
    }
   },
   "outputs": [
    {
     "name": "stderr",
     "output_type": "stream",
     "text": [
      "[2024-05-24 20:22:25,663][INFO]: Connecting admin@churchland-data.cmojfwfr0b9t.us-west-2.rds.amazonaws.com:3306\n",
      "[2024-05-24 20:22:26,040][INFO]: Connected admin@churchland-data.cmojfwfr0b9t.us-west-2.rds.amazonaws.com:3306\n"
     ]
    }
   ],
   "source": [
    "from labdata.schema import *\n",
    "from labdata import chronic_paper\n"
   ]
  },
  {
   "cell_type": "code",
   "execution_count": null,
   "metadata": {},
   "outputs": [],
   "source": [
    "uint"
   ]
  },
  {
   "cell_type": "code",
   "execution_count": null,
   "metadata": {},
   "outputs": [],
   "source": []
  },
  {
   "cell_type": "code",
   "execution_count": 2,
   "metadata": {
    "execution": {
     "iopub.execute_input": "2024-05-25T03:22:28.638766Z",
     "iopub.status.busy": "2024-05-25T03:22:28.637718Z",
     "iopub.status.idle": "2024-05-25T03:22:29.380823Z",
     "shell.execute_reply": "2024-05-25T03:22:29.380043Z",
     "shell.execute_reply.started": "2024-05-25T03:22:28.638737Z"
    }
   },
   "outputs": [
    {
     "name": "stdout",
     "output_type": "stream",
     "text": [
      "We performed 42 chronic insertions (27 probes) into 17 mice and recorded 706 sessions.\n",
      "We spike sorted  1356 probe*sessions.\n"
     ]
    }
   ],
   "source": [
    "# TODO: add missing procedures for mice\n",
    "insertions_query = Procedure() & 'procedure_type = \"chronic implant\"'\n",
    "chronic_mice = insertions_query.fetch('subject_name')\n",
    "chronic_sessions_query = EphysRecording() & [dict(subject_name = c) for c in chronic_mice]\n",
    "n_sorted_prbs = len(SpikeSorting() & 'parameter_set_num = 5')\n",
    "\n",
    "chronic_probe_ids = np.unique((EphysRecording.ProbeSetting() & chronic_sessions_query).fetch('probe_id')).astype(int)\n",
    "\n",
    "insertions = ((pd.DataFrame((EphysRecording.ProbeSetting() & chronic_sessions_query).proj('probe_id').fetch())[\n",
    "               ['subject_name','probe_id']].drop_duplicates()))\n",
    "\n",
    "\n",
    "print(f'We performed {len(insertions)} chronic insertions ({len(chronic_probe_ids)} probes) into {len(chronic_mice)} mice and recorded {len(chronic_sessions_query)} sessions.')\n",
    "print(f'We spike sorted  {n_sorted_prbs} probe*sessions.')\n",
    "# insertions"
   ]
  },
  {
   "cell_type": "code",
   "execution_count": 21,
   "metadata": {
    "execution": {
     "iopub.execute_input": "2024-05-16T21:05:11.446496Z",
     "iopub.status.busy": "2024-05-16T21:05:11.446052Z",
     "iopub.status.idle": "2024-05-16T21:05:11.520246Z",
     "shell.execute_reply": "2024-05-16T21:05:11.518934Z",
     "shell.execute_reply.started": "2024-05-16T21:05:11.446469Z"
    }
   },
   "outputs": [
    {
     "data": {
      "text/plain": [
       "0.7777777777777778"
      ]
     },
     "execution_count": 21,
     "metadata": {},
     "output_type": "execute_result"
    }
   ],
   "source": [
    "len(((ProbeExtraction() & 'extraction_successful = 1')))/len(ProbeExtraction())"
   ]
  }
 ],
 "metadata": {
  "kernelspec": {
   "display_name": "Python 3 (ipykernel)",
   "language": "python",
   "name": "python3"
  },
  "language_info": {
   "codemirror_mode": {
    "name": "ipython",
    "version": 3
   },
   "file_extension": ".py",
   "mimetype": "text/x-python",
   "name": "python",
   "nbconvert_exporter": "python",
   "pygments_lexer": "ipython3",
   "version": "3.11.7"
  }
 },
 "nbformat": 4,
 "nbformat_minor": 4
}
