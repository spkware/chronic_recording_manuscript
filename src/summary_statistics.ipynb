{
 "cells": [
  {
   "cell_type": "code",
   "execution_count": 2,
   "metadata": {
    "collapsed": true,
    "execution": {
     "iopub.execute_input": "2024-05-29T06:40:20.473915Z",
     "iopub.status.busy": "2024-05-29T06:40:20.472141Z",
     "iopub.status.idle": "2024-05-29T06:40:25.927189Z",
     "shell.execute_reply": "2024-05-29T06:40:25.925820Z",
     "shell.execute_reply.started": "2024-05-29T06:40:20.473876Z"
    },
    "jupyter": {
     "outputs_hidden": true
    }
   },
   "outputs": [
    {
     "name": "stderr",
     "output_type": "stream",
     "text": [
      "[2024-05-28 23:40:21,521][INFO]: Connecting admin@churchland-data.cmojfwfr0b9t.us-west-2.rds.amazonaws.com:3306\n",
      "[2024-05-28 23:40:22,099][INFO]: Connected admin@churchland-data.cmojfwfr0b9t.us-west-2.rds.amazonaws.com:3306\n"
     ]
    }
   ],
   "source": [
    "from labdata.schema import *\n",
    "from labdata import chronic_paper"
   ]
  },
  {
   "cell_type": "code",
   "execution_count": 36,
   "metadata": {
    "execution": {
     "iopub.execute_input": "2024-05-29T06:56:15.572840Z",
     "iopub.status.busy": "2024-05-29T06:56:15.571916Z",
     "iopub.status.idle": "2024-05-29T06:56:17.480161Z",
     "shell.execute_reply": "2024-05-29T06:56:17.479559Z",
     "shell.execute_reply.started": "2024-05-29T06:56:15.572806Z"
    }
   },
   "outputs": [
    {
     "name": "stdout",
     "output_type": "stream",
     "text": [
      "We performed 42 chronic insertions (27 probes) into 16 mice and recorded 717 sessions.\n",
      "We extracted 32 functional probes successfully (76%).\n",
      "We re-implanted probes 16 times (38%).\n",
      "We spike sorted  1381 probe*sessions.\n"
     ]
    }
   ],
   "source": [
    "# TODO: add missing procedures for mice\n",
    "insertions_query = Procedure() & 'procedure_type = \"chronic implant\"'\n",
    "chronic_mice = np.unique(insertions_query.fetch('subject_name'))\n",
    "chronic_sessions_query = EphysRecording() & [dict(subject_name = c) for c in chronic_mice]\n",
    "n_sorted_prbs = len(SpikeSorting() & 'parameter_set_num = 5')\n",
    "\n",
    "chronic_probe_ids = np.unique((EphysRecording.ProbeSetting() & chronic_sessions_query).fetch('probe_id')).astype(int)\n",
    "\n",
    "insertions = ((pd.DataFrame((EphysRecording.ProbeSetting() & chronic_sessions_query).proj('probe_id').fetch())[\n",
    "               ['subject_name','probe_id']].drop_duplicates()))\n",
    "\n",
    "\n",
    "reused = 0\n",
    "for p in chronic_probe_ids:\n",
    "    n = len((ProbeInsertion() & f'probe_id = \"{p}\"'))\n",
    "    if n>1:\n",
    "        reused += n-1 # dont count with the first use\n",
    "reused_percent = int(100*reused/len(insertions))\n",
    "print(f'We performed {len(insertions)} chronic insertions ({len(chronic_probe_ids)} probes) into {len(chronic_mice)} mice and recorded {len(chronic_sessions_query)} sessions.')\n",
    "extract_percent = int(100*(len(((ProbeExtraction() & \"extraction_successful = 1\"))))/len(ProbeExtraction()))\n",
    "print(f'We extracted {len((ProbeExtraction() & \"extraction_successful = 1\"))} functional probes successfully ({extract_percent}%).')\n",
    "print(f'We re-implanted probes {reused} times ({reused_percent}%).')\n",
    "print(f'We spike sorted  {n_sorted_prbs} probe*sessions.')\n",
    "# insertions"
   ]
  }
 ],
 "metadata": {
  "kernelspec": {
   "display_name": "Python 3 (ipykernel)",
   "language": "python",
   "name": "python3"
  },
  "language_info": {
   "codemirror_mode": {
    "name": "ipython",
    "version": 3
   },
   "file_extension": ".py",
   "mimetype": "text/x-python",
   "name": "python",
   "nbconvert_exporter": "python",
   "pygments_lexer": "ipython3",
   "version": "3.11.7"
  }
 },
 "nbformat": 4,
 "nbformat_minor": 4
}
