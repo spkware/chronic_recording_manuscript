{
 "cells": [
  {
   "cell_type": "code",
   "execution_count": 1,
   "metadata": {},
   "outputs": [
    {
     "name": "stderr",
     "output_type": "stream",
     "text": [
      "[2024-05-07 16:51:31,731][INFO]: Connecting mmelin@churchland-data.cmojfwfr0b9t.us-west-2.rds.amazonaws.com:3306\n",
      "[2024-05-07 16:51:32,085][INFO]: Connected mmelin@churchland-data.cmojfwfr0b9t.us-west-2.rds.amazonaws.com:3306\n"
     ]
    }
   ],
   "source": [
    "from labdata.schema import *"
   ]
  },
  {
   "cell_type": "code",
   "execution_count": 81,
   "metadata": {},
   "outputs": [
    {
     "data": {
      "text/plain": [
       "949"
      ]
     },
     "execution_count": 81,
     "metadata": {},
     "output_type": "execute_result"
    }
   ],
   "source": []
  },
  {
   "cell_type": "code",
   "execution_count": 87,
   "metadata": {},
   "outputs": [
    {
     "name": "stdout",
     "output_type": "stream",
     "text": [
      "We performed 24 chronic insertions (18 total probes used) into 12 mice and recorded 504 sessions.\n",
      "We sorted 1236 probe*sessions.\n"
     ]
    },
    {
     "data": {
      "text/html": [
       "\n",
       "    \n",
       "    <style type=\"text/css\">\n",
       "        .Table{\n",
       "            border-collapse:collapse;\n",
       "        }\n",
       "        .Table th{\n",
       "            background: #A0A0A0; color: #ffffff; padding:4px; border:#f0e0e0 1px solid;\n",
       "            font-weight: normal; font-family: monospace; font-size: 100%;\n",
       "        }\n",
       "        .Table td{\n",
       "            padding:4px; border:#f0e0e0 1px solid; font-size:100%;\n",
       "        }\n",
       "        .Table tr:nth-child(odd){\n",
       "            background: #ffffff;\n",
       "            color: #000000;\n",
       "        }\n",
       "        .Table tr:nth-child(even){\n",
       "            background: #f3f1ff;\n",
       "            color: #000000;\n",
       "        }\n",
       "        /* Tooltip container */\n",
       "        .djtooltip {\n",
       "        }\n",
       "        /* Tooltip text */\n",
       "        .djtooltip .djtooltiptext {\n",
       "            visibility: hidden;\n",
       "            width: 120px;\n",
       "            background-color: black;\n",
       "            color: #fff;\n",
       "            text-align: center;\n",
       "            padding: 5px 0;\n",
       "            border-radius: 6px;\n",
       "            /* Position the tooltip text - see examples below! */\n",
       "            position: absolute;\n",
       "            z-index: 1;\n",
       "        }\n",
       "        #primary {\n",
       "            font-weight: bold;\n",
       "            color: black;\n",
       "        }\n",
       "        #nonprimary {\n",
       "            font-weight: normal;\n",
       "            color: white;\n",
       "        }\n",
       "\n",
       "        /* Show the tooltip text when you mouse over the tooltip container */\n",
       "        .djtooltip:hover .djtooltiptext {\n",
       "            visibility: visible;\n",
       "        }\n",
       "    </style>\n",
       "    \n",
       "    <b></b>\n",
       "        <div style=\"max-height:1000px;max-width:1500px;overflow:auto;\">\n",
       "        <table border=\"1\" class=\"Table\">\n",
       "            <thead> <tr style=\"text-align: right;\"> <th> <div class=\"djtooltip\">\n",
       "                            <p id=\"primary\">subject_name</p>\n",
       "                            <span class=\"djtooltiptext\">unique mouse id</span>\n",
       "                        </div></th><th><div class=\"djtooltip\">\n",
       "                            <p id=\"primary\">session_name</p>\n",
       "                            <span class=\"djtooltiptext\">session identifier</span>\n",
       "                        </div></th><th><div class=\"djtooltip\">\n",
       "                            <p id=\"primary\">dataset_name</p>\n",
       "                            <span class=\"djtooltiptext\"></span>\n",
       "                        </div></th><th><div class=\"djtooltip\">\n",
       "                            <p id=\"nonprimary\">n_probes</p>\n",
       "                            <span class=\"djtooltiptext\">number of probes</span>\n",
       "                        </div></th><th><div class=\"djtooltip\">\n",
       "                            <p id=\"nonprimary\">recording_duration</p>\n",
       "                            <span class=\"djtooltiptext\">duration of the recording</span>\n",
       "                        </div></th><th><div class=\"djtooltip\">\n",
       "                            <p id=\"nonprimary\">recording_software</p>\n",
       "                            <span class=\"djtooltiptext\">software_version</span>\n",
       "                        </div> </th> </tr> </thead>\n",
       "            <tbody> <tr> <td>JC131</td>\n",
       "<td>20230720_180000</td>\n",
       "<td>ephys_g0</td>\n",
       "<td>1</td>\n",
       "<td>942.707</td>\n",
       "<td>spikeglx</td></tr><tr><td>JC131</td>\n",
       "<td>20230721_181000</td>\n",
       "<td>ephys_g0</td>\n",
       "<td>1</td>\n",
       "<td>378.953</td>\n",
       "<td>spikeglx</td></tr><tr><td>JC131</td>\n",
       "<td>20230721_181000</td>\n",
       "<td>ephys_g1</td>\n",
       "<td>1</td>\n",
       "<td>2047.54</td>\n",
       "<td>spikeglx</td></tr><tr><td>JC131</td>\n",
       "<td>20230722_175900</td>\n",
       "<td>ephys_g0</td>\n",
       "<td>1</td>\n",
       "<td>1127.73</td>\n",
       "<td>spikeglx</td></tr><tr><td>JC131</td>\n",
       "<td>20230724_175348</td>\n",
       "<td>ephys_g0</td>\n",
       "<td>1</td>\n",
       "<td>969.377</td>\n",
       "<td>spikeglx</td></tr><tr><td>JC131</td>\n",
       "<td>20230725_211136</td>\n",
       "<td>ephys_g0</td>\n",
       "<td>1</td>\n",
       "<td>969.08</td>\n",
       "<td>spikeglx</td></tr><tr><td>JC131</td>\n",
       "<td>20230726_184457</td>\n",
       "<td>ephys_g0</td>\n",
       "<td>1</td>\n",
       "<td>969.101</td>\n",
       "<td>spikeglx</td></tr><tr><td>JC131</td>\n",
       "<td>20230727_183817</td>\n",
       "<td>ephys_g0</td>\n",
       "<td>1</td>\n",
       "<td>969.095</td>\n",
       "<td>spikeglx</td></tr><tr><td>JC131</td>\n",
       "<td>20230727_190139</td>\n",
       "<td>ephys_g1</td>\n",
       "<td>1</td>\n",
       "<td>969.095</td>\n",
       "<td>spikeglx</td></tr><tr><td>JC131</td>\n",
       "<td>20230728_182219</td>\n",
       "<td>ephys_g0</td>\n",
       "<td>1</td>\n",
       "<td>969.338</td>\n",
       "<td>spikeglx</td></tr><tr><td>JC131</td>\n",
       "<td>20230730_195709</td>\n",
       "<td>ephys_g0</td>\n",
       "<td>1</td>\n",
       "<td>969.095</td>\n",
       "<td>spikeglx</td></tr><tr><td>JC131</td>\n",
       "<td>20230801_202841</td>\n",
       "<td>ephys_g0</td>\n",
       "<td>1</td>\n",
       "<td>969.023</td>\n",
       "<td>spikeglx</td> </tr> </tbody>\n",
       "        </table>\n",
       "        <p>...</p>\n",
       "        <p>Total: 504</p></div>\n",
       "        "
      ],
      "text/plain": [
       "*subject_name  *session_name  *dataset_name  n_probes     recording_dura recording_soft\n",
       "+------------+ +------------+ +------------+ +----------+ +------------+ +------------+\n",
       "JC131          20230720_18000 ephys_g0       1            942.707        spikeglx      \n",
       "JC131          20230721_18100 ephys_g0       1            378.953        spikeglx      \n",
       "JC131          20230721_18100 ephys_g1       1            2047.54        spikeglx      \n",
       "JC131          20230722_17590 ephys_g0       1            1127.73        spikeglx      \n",
       "JC131          20230724_17534 ephys_g0       1            969.377        spikeglx      \n",
       "JC131          20230725_21113 ephys_g0       1            969.08         spikeglx      \n",
       "JC131          20230726_18445 ephys_g0       1            969.101        spikeglx      \n",
       "JC131          20230727_18381 ephys_g0       1            969.095        spikeglx      \n",
       "JC131          20230727_19013 ephys_g1       1            969.095        spikeglx      \n",
       "JC131          20230728_18221 ephys_g0       1            969.338        spikeglx      \n",
       "JC131          20230730_19570 ephys_g0       1            969.095        spikeglx      \n",
       "JC131          20230801_20284 ephys_g0       1            969.023        spikeglx      \n",
       "   ...\n",
       " (Total: 504)"
      ]
     },
     "execution_count": 87,
     "metadata": {},
     "output_type": "execute_result"
    }
   ],
   "source": [
    "# TODO: add missing procedures for mice\n",
    "insertions_query = Procedure() & 'procedure_type = \"chronic implant\"'\n",
    "chronic_mice = insertions_query.fetch('subject_name')\n",
    "chronic_sessions_query = EphysRecording() & 'subject_name IN (\"' + '\",\"'.join(chronic_mice) + '\")'\n",
    "n_sorted_prbs = len(SpikeSorting() & 'parameter_set_num IN (4,6)')\n",
    "\n",
    "chronic_probe_ids = np.unique(chronic_sessions_query.ProbeSetting().fetch('probe_id')).astype(int)\n",
    "\n",
    "# TODO: this line won't work until missing sessions are added\n",
    "#n_probes = np.array([(chronic_sessions_query & f'subject_name = \"{m}\"').fetch('n_probes')[0] for m in chronic_mice])\n",
    "n_probes = np.array([2] * len(chronic_mice))\n",
    "\n",
    "print(f'We performed {np.sum(n_probes)} chronic insertions ({len(chronic_probe_ids)} total probes used) into {len(chronic_mice)} mice and recorded {len(chronic_sessions_query)} sessions.')\n",
    "print(f'We sorted {n_sorted_prbs} probe*sessions.')\n",
    "chronic_sessions_query"
   ]
  }
 ],
 "metadata": {
  "kernelspec": {
   "display_name": "spks",
   "language": "python",
   "name": "python3"
  },
  "language_info": {
   "codemirror_mode": {
    "name": "ipython",
    "version": 3
   },
   "file_extension": ".py",
   "mimetype": "text/x-python",
   "name": "python",
   "nbconvert_exporter": "python",
   "pygments_lexer": "ipython3",
   "version": "3.11.5"
  }
 },
 "nbformat": 4,
 "nbformat_minor": 2
}
