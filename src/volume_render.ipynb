{
 "cells": [
  {
   "cell_type": "code",
   "execution_count": null,
   "id": "dae30ded-5b4c-4422-92e3-4f8459944900",
   "metadata": {},
   "outputs": [],
   "source": [
    "from bg_atlasapi import BrainGlobeAtlas\n",
    "from pprint import pprint\n",
    "# this downloads the atlas and meshes,we could also do it straight from the allen but this is easier.\n",
    "bg_atlas = BrainGlobeAtlas(\"allen_mouse_25um\", check_latest=False)  "
   ]
  },
  {
   "cell_type": "code",
   "execution_count": 81,
   "id": "f9b357e1-3cc4-4525-a62d-709bc997f345",
   "metadata": {
    "execution": {
     "iopub.execute_input": "2023-12-18T08:16:14.259446Z",
     "iopub.status.busy": "2023-12-18T08:16:14.258848Z",
     "iopub.status.idle": "2023-12-18T08:16:14.982429Z",
     "shell.execute_reply": "2023-12-18T08:16:14.981576Z",
     "shell.execute_reply.started": "2023-12-18T08:16:14.259418Z"
    }
   },
   "outputs": [
    {
     "data": {
      "application/vnd.jupyter.widget-view+json": {
       "model_id": "6b9b723d4634420c9736e340fd91af64",
       "version_major": 2,
       "version_minor": 0
      },
      "text/plain": [
       "Widget(value='<iframe src=\"http://localhost:37097/index.html?ui=P_0x7fb1284a1050_38&reconnect=auto\" class=\"pyv…"
      ]
     },
     "metadata": {},
     "output_type": "display_data"
    }
   ],
   "source": [
    "from tifffile import imread\n",
    "import meshio\n",
    "import json\n",
    "from pathlib import Path\n",
    "import numpy as np\n",
    "import pyvista as pv # for plotting 3d\n",
    "pv.set_jupyter_backend('trame')\n",
    "\n",
    "# load the atlas metadata\n",
    "atlaslocation =  Path('~').expanduser()/'.brainglobe'/'allen_mouse_25um_v1.2/'\n",
    "with open(atlaslocation/'structures.json','r') as fd:\n",
    "    structures = json.load(fd)\n",
    "with open(atlaslocation/'metadata.json','r') as fd:\n",
    "    metadata = json.load(fd)\n",
    "\n",
    "with open(atlaslocation/'structures.json','r') as fd:\n",
    "    structures = json.load(fd)\n",
    "\n",
    "# AP,DV,ML\n",
    "bregma_location = np.array([216, 18,228 ])*metadata['resolution'] #don't trust too much, for the 25um atlas from https://community.brain-map.org/t/how-to-transform-ccf-x-y-z-coordinates-into-stereotactic-coordinates/1858\n",
    "\n",
    "#bregma_location = [540, 44, 570] #don't trust too much, for the 10um atlas from https://community.brain-map.org/t/how-to-transform-ccf-x-y-z-coordinates-into-stereotactic-coordinates/1858\n",
    "\n",
    "\n",
    "\n",
    "import pandas as pd\n",
    "structures = pd.DataFrame(structures)\n",
    "\n",
    "# load meshes\n",
    "def load_structure_mesh(atlaslocation,structures,acronym):\n",
    "    # meshes are in um\n",
    "    id = structures[structures.acronym == acronym].id.values\n",
    "    if len(id):\n",
    "        id = id[0]\n",
    "    else:\n",
    "        return\n",
    "    mesh = atlaslocation/'meshes'/f'{id}.obj'\n",
    "    mesh = pv.read(mesh)\n",
    "    return mesh, structures[structures.acronym == acronym].iloc[0]\n",
    "root,rootstruct = load_structure_mesh(atlaslocation,structures,'root')\n",
    "\n",
    "toplot = []\n",
    "for acronym in ['CP','LP','VISp','VISa','SCs','ACA','MD']:\n",
    "    toplot.append(load_structure_mesh(atlaslocation,structures,acronym))\n",
    "\n",
    "# todo, translate and rotate the meshes so they are in stereotaxic position.\n",
    "\n",
    "# p = pv.Plotter(window_size = [1000,1000])# for saving in the next cell with high res\n",
    "p = pv.Plotter(window_size = [600,400])\n",
    "\n",
    "axes = p.add_axes()\n",
    "axes.origin = bregma_location\n",
    "\n",
    "rotate5deg = True\n",
    "if rotate5deg:\n",
    "    root.rotate_z(5,point=axes.origin, inplace=True)\n",
    "\n",
    "# There are 2 ways of doing this, transform the meshes of transform the probes, lets transform the probes,\n",
    "# the other way silhoette doesnt work.\n",
    "# M = np.array([[0.025, 0., 0., 0.],\n",
    "#                    [0., 0.025, 0., 0.],\n",
    "#                    [0., 0., 0.025, 0.],\n",
    "#                    [0., 0., 0., 1.]])\n",
    "p.add_mesh(root, color = rootstruct['rgb_triplet'], opacity = 0.1,silhouette=False)#,user_matrix=M)\n",
    "for s in toplot:\n",
    "    if rotate5deg:\n",
    "        s[0].rotate_z(5,point=axes.origin, inplace=True)\n",
    "    c = s[0].clip('z', invert=True)\n",
    "    p.add_mesh(c,color=s[1]['rgb_triplet'],opacity = 0.7, silhouette=dict(color='#000000',line_width=1) )\n",
    "\n",
    "# todo, make all probes start at the same depth (needs angles)\n",
    "probes_position_type = [(np.array([-2394,781,-991]),np.array([-1278,2197,-192]),4,0),\n",
    "                        (np.array([-1665,-646,1898]),np.array([1210,3664,-1022]),4,0),\n",
    "                        (np.array([131,646,-4224]),np.array([431,4235,-2819]),4,0),\n",
    "                        (np.array([131,646,-4224]),np.array([431,4235,-2819]),4,0),\n",
    "                        (np.array([1288,103,-1132]),np.array([1862,3472,-1286]),4,-130),\n",
    "                        (np.array([4215,-200,-2241]),np.array([2628,3681,-1501]),4,90),\n",
    "                        (np.array([3489,-292,1176]),np.array([3489,2074,-1377]),4,0)]\n",
    "\n",
    "for start,tip,nshanks,spin in probes_position_type:\n",
    "    # Can only plot start and end locations\n",
    "    line = pv.Line(pointa = start+bregma_location, pointb = tip+bregma_location)\n",
    "    p.add_mesh(line,color='#000000',opacity = 1,line_width=3)\n",
    "    for s in range(1,4):\n",
    "        start,tip = make_20_shanks(start,tip,1,spin = spin)\n",
    "        line = pv.Line(pointa = start+bregma_location, pointb = tip+bregma_location)\n",
    "        p.add_mesh(line,color='#000000',opacity = 1,line_width=3)\n",
    "p.show()\n"
   ]
  },
  {
   "cell_type": "code",
   "execution_count": 80,
   "id": "814f6f6d-a567-4a22-87c0-49eded1d6fc7",
   "metadata": {
    "execution": {
     "iopub.execute_input": "2023-12-18T08:09:18.667664Z",
     "iopub.status.busy": "2023-12-18T08:09:18.667405Z",
     "iopub.status.idle": "2023-12-18T08:09:18.880384Z",
     "shell.execute_reply": "2023-12-18T08:09:18.879634Z",
     "shell.execute_reply.started": "2023-12-18T08:09:18.667649Z"
    }
   },
   "outputs": [],
   "source": [
    "p.save_graphic('/home/joao/Desktop/JC140_probes_planned_rotated.pdf')\n",
    "# start,tip = (np.array([-1665,-646,1898]),np.array([1210,3664,-1022]))\n",
    "\n",
    "\n",
    "\n"
   ]
  },
  {
   "cell_type": "code",
   "execution_count": 69,
   "id": "7be1a781-4d27-4bf2-9c10-8937776b598b",
   "metadata": {
    "execution": {
     "iopub.execute_input": "2023-12-18T01:22:27.777794Z",
     "iopub.status.busy": "2023-12-18T01:22:27.776892Z",
     "iopub.status.idle": "2023-12-18T01:22:27.784571Z",
     "shell.execute_reply": "2023-12-18T01:22:27.783592Z",
     "shell.execute_reply.started": "2023-12-18T01:22:27.777755Z"
    }
   },
   "outputs": [
    {
     "data": {
      "text/plain": [
       "[(6549.170102581264, -31986.954180910107, 11921.351433090116),\n",
       " (6293.4735693589, 3967.848571900686, 5688.1645),\n",
       " (-0.05838422265325471, 0.1701194078712309, 0.9836923653311117)]"
      ]
     },
     "execution_count": 69,
     "metadata": {},
     "output_type": "execute_result"
    }
   ],
   "source": [
    "p.camera_position"
   ]
  },
  {
   "cell_type": "code",
   "execution_count": 61,
   "id": "a8548b6f-8f81-43f5-a63f-9acc8727a6eb",
   "metadata": {
    "execution": {
     "iopub.execute_input": "2023-12-18T01:19:25.129300Z",
     "iopub.status.busy": "2023-12-18T01:19:25.128975Z",
     "iopub.status.idle": "2023-12-18T01:19:25.143114Z",
     "shell.execute_reply": "2023-12-18T01:19:25.141932Z",
     "shell.execute_reply.started": "2023-12-18T01:19:25.129279Z"
    }
   },
   "outputs": [],
   "source": [
    "# start,tip,nshanks = probes_position_type[0]\n",
    "# x1,y1,z1 = start\n",
    "# x2,y2,z2 = tip\n",
    "# tt = np.rad2deg(np.arctan2(x1*y2 - y1*x2,x1*x2 + y1+y2)),np.rad2deg(np.arctan2(x1*z2 - z1*x2,x1*x2 + z1+z2))\n",
    "def rotation_matrix_from_degrees(yaw_degrees, pitch_degrees, roll_degrees):\n",
    "    \"\"\"Return a rotation matrix to rotate a vector in 3D space. Pass the angles in degrees, not radians.\"\"\"\n",
    "    from math import cos, sin, radians\n",
    "    alpha = radians(yaw_degrees)\n",
    "    beta = radians(pitch_degrees)\n",
    "    gamma = radians(roll_degrees)\n",
    "\n",
    "    Rz = np.array([[cos(alpha), -sin(alpha), 0],\n",
    "                     [sin(alpha), cos(alpha), 0],\n",
    "                     [0, 0, 1]])\n",
    "    Ry = np.array([[cos(beta), 0, sin(beta)],\n",
    "                   [0, 1, 0],\n",
    "                   [-sin(beta), 0, cos(beta)]])\n",
    "    Rx = np.array([[1,0,0],\n",
    "                   [0, cos(gamma), -sin(gamma)],\n",
    "                   [0, sin(gamma), cos(gamma)]])\n",
    "\n",
    "    return Rz @ Ry @ Rx\n",
    "\n",
    "def make_20_shanks(start,tip,shank,spin = 0):\n",
    "    # apply shank offsets and rotate coordinate frame\n",
    "    NP2_SHANK_DISTANCE_MM = np.array([0,0,250]) \n",
    "    x1,y1,z1 = start\n",
    "    x2,y2,z2 = tip\n",
    "    additional_shank_positions = []\n",
    "    additional_shank_angles = []\n",
    "    elevation,azimuth = np.rad2deg(np.arctan2(x1*y2 - y1*x2,x1*x2 + y1+y2)),np.rad2deg(np.arctan2(x1*z2 - z1*x2,x1*x2 + z1+z2))\n",
    "    \n",
    "    rotation_matrix = rotation_matrix_from_degrees(elevation,azimuth,spin)\n",
    "    shank1loc = np.dot(rotation_matrix, NP2_SHANK_DISTANCE_MM * shank) + np.array([y1,z1,x1])\n",
    "    shank2loc = np.dot(rotation_matrix, NP2_SHANK_DISTANCE_MM * shank) + np.array([y2,z2,x2])\n",
    "    y1,z1,x1 = shank1loc\n",
    "    y2,z2,x2 = shank2loc\n",
    "    return np.array([x1,y1,z1]),np.array([x2,y2,z2])\n",
    "# make_20_shanks(start,tip,1)"
   ]
  },
  {
   "cell_type": "code",
   "execution_count": 22,
   "id": "2fc205bc-3c90-488e-916f-8d769134b8ff",
   "metadata": {
    "execution": {
     "iopub.execute_input": "2023-12-18T00:56:05.587759Z",
     "iopub.status.busy": "2023-12-18T00:56:05.586509Z",
     "iopub.status.idle": "2023-12-18T00:56:05.684954Z",
     "shell.execute_reply": "2023-12-18T00:56:05.684382Z",
     "shell.execute_reply.started": "2023-12-18T00:56:05.587723Z"
    }
   },
   "outputs": [
    {
     "data": {
      "text/plain": [
       "Actor (0x7fb481ea43a0)\n",
       "  Center:                     (3563.6954345703125, 1938.7811279296875, 5108.5)\n",
       "  Pickable:                   True\n",
       "  Position:                   (0.0, 0.0, 0.0)\n",
       "  Scale:                      (1.0, 1.0, 1.0)\n",
       "  Visible:                    True\n",
       "  X Bounds                    3.006E+03, 4.122E+03\n",
       "  Y Bounds                    1.231E+03, 2.647E+03\n",
       "  Z Bounds                    4.709E+03, 5.508E+03\n",
       "  User matrix:                Set\n",
       "  Has mapper:                 True\n",
       "\n",
       "Property (0x7fb47bbf2a40)\n",
       "  Ambient:                     0.0\n",
       "  Ambient color:               Color(name='black', hex='#000000ff', opacity=255)\n",
       "  Anisotropy:                  0.0\n",
       "  Color:                       Color(name='black', hex='#000000ff', opacity=255)\n",
       "  Culling:                     \"none\"\n",
       "  Diffuse:                     1.0\n",
       "  Diffuse color:               Color(name='black', hex='#000000ff', opacity=255)\n",
       "  Edge color:                  Color(name='black', hex='#000000ff', opacity=255)\n",
       "  Edge opacity:                1.0\n",
       "  Interpolation:               InterpolationType.FLAT\n",
       "  Lighting:                    True\n",
       "  Line width:                  3.0\n",
       "  Metallic:                    0.0\n",
       "  Opacity:                     0.9\n",
       "  Point size:                  5.0\n",
       "  Render lines as tubes:       False\n",
       "  Render points as spheres:    False\n",
       "  Roughness:                   0.5\n",
       "  Show edges:                  False\n",
       "  Specular:                    0.0\n",
       "  Specular color:              Color(name='black', hex='#000000ff', opacity=255)\n",
       "  Specular power:              100.0\n",
       "  Style:                       \"Surface\"\n",
       "\n",
       "DataSetMapper (0x7fb47832ef80)\n",
       "  Scalar visibility:           False\n",
       "  Scalar range:                (0.0, 1.0)\n",
       "  Interpolate before mapping:  True\n",
       "  Scalar map mode:             default\n",
       "  Color mode:                  direct\n",
       "\n",
       "Attached dataset:\n",
       "PolyData (0x7fb47832ec80)\n",
       "  N Cells:    1\n",
       "  N Points:   2\n",
       "  N Strips:   0\n",
       "  X Bounds:   3.006e+03, 4.122e+03\n",
       "  Y Bounds:   1.231e+03, 2.647e+03\n",
       "  Z Bounds:   4.709e+03, 5.508e+03\n",
       "  N Arrays:   2"
      ]
     },
     "execution_count": 22,
     "metadata": {},
     "output_type": "execute_result"
    }
   ],
   "source": [
    "start = np.array([-2394.40602769,780.70820982,-991.])\n",
    "tip = np.array([-1278.20301385,  2196.85410491 ,-192.])\n",
    "line = pv.Line(pointa = start+bregma_location, pointb = tip+bregma_location)\n",
    "p.add_mesh(line,color='#000000',opacity = 0.9,line_width=3)"
   ]
  }
 ],
 "metadata": {
  "kernelspec": {
   "display_name": "Python 3 (ipykernel)",
   "language": "python",
   "name": "python3"
  },
  "language_info": {
   "codemirror_mode": {
    "name": "ipython",
    "version": 3
   },
   "file_extension": ".py",
   "mimetype": "text/x-python",
   "name": "python",
   "nbconvert_exporter": "python",
   "pygments_lexer": "ipython3",
   "version": "3.11.5"
  }
 },
 "nbformat": 4,
 "nbformat_minor": 5
}
