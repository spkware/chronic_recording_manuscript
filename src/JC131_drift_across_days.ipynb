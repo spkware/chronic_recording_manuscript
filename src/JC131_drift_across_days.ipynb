{
 "cells": [
  {
   "cell_type": "markdown",
   "metadata": {},
   "source": [
    "## Plot the drift (estimated with DREDGE) across days "
   ]
  },
  {
   "cell_type": "code",
   "execution_count": 1,
   "metadata": {},
   "outputs": [],
   "source": [
    "#%load_ext autoreload\n",
    "#%autoreload 2"
   ]
  },
  {
   "cell_type": "code",
   "execution_count": 2,
   "metadata": {},
   "outputs": [],
   "source": [
    "import numpy as np\n",
    "\n",
    "import matplotlib\n",
    "import matplotlib.pyplot as plt\n",
    "from tqdm import tqdm\n",
    "from datetime import datetime\n",
    "matplotlib.rcParams['pdf.fonttype'] = 42\n",
    "matplotlib.rcParams['ps.fonttype'] = 42\n",
    "#matplotlib.rcParams.update({'font.size': 18})\n",
    "\n",
    "from labdata.schema import *\n",
    "PROBE_NUM = 0\n",
    "SHANK_NUM = 0\n",
    "T_START_SEC = 300\n",
    "T_END_SEC = 500 # grab spikes from minutes 5 to 10\n",
    "session_offset_sec = T_END_SEC - T_START_SEC"
   ]
  },
  {
   "cell_type": "code",
   "execution_count": null,
   "metadata": {},
   "outputs": [],
   "source": [
    "# query for orientation sessions\n",
    "ori_session_keys = (Dataset() & 'subject_name = \"JC131\"' & 'dataset_name LIKE \"%ori%%\"').fetch('session_name', as_dict=True)\n",
    "#drop_session_keys = (Dataset() & 'subject_name = \"JC131\"' & 'dataset_name LIKE \"%Droplet%%\"').fetch('session_name', as_dict=True)\n",
    "\n",
    "# query for sessions with the proper probe configuration and sorting parameters\n",
    "query1 = SpikeSorting * Session * EphysRecording.ProbeSetting() \\\n",
    "    & ori_session_keys \\\n",
    "    & 'parameter_set_num = 6' \\\n",
    "    & 'configuration_id = 3' \\\n",
    "    & f'session_datetime < \"2023-11-8\"' \\\n",
    "    & 'session_name <> \"20231025_183538\"' # exclude faulty recording\n",
    "\n",
    "session_dates = query1.fetch('session_name', order_by='session_datetime')\n",
    "\n",
    "query = UnitMetrics * SpikeSorting.Unit * Session * EphysRecording.ProbeSetting() \\\n",
    "    & ori_session_keys \\\n",
    "    & 'parameter_set_num = 6' \\\n",
    "    & 'configuration_id = 3' \\\n",
    "    & f'session_datetime < \"2023-11-8\"' \\\n",
    "    #& f'shank = {SHANK_NUM}'\n",
    "\n",
    "query & f'session_name = \"{session_dates[0]}\"' "
   ]
  },
  {
   "cell_type": "code",
   "execution_count": null,
   "metadata": {},
   "outputs": [],
   "source": [
    "# TODO: restrict to specific shank\n",
    "# TODO: restrict to specific depth range\n",
    "# TODO: restrict to single units?\n",
    "\n",
    "def get_spike_data(session_dates, query, t_start_sec, t_end_sec):\n",
    "    #session_dates = session_dates[0:10] # testing\n",
    "    session_offset_sec = t_end_sec - t_start_sec\n",
    "    all_spikes = {}\n",
    "    all_spikes['amps'] = []\n",
    "    all_spikes['depths_um'] = []\n",
    "    all_spikes['times_s'] = []\n",
    "    session_breaks = []\n",
    "    for o,d in enumerate(tqdm(session_dates)):\n",
    "        dat = (query & f'session_name = \"{d}\"').fetch('spike_amplitudes','spike_times','spike_positions', as_dict=True)\n",
    "        fs = (EphysRecording.ProbeSetting() & f'session_name = \"{d}\"' & f'probe_num = {PROBE_NUM}').fetch1('sampling_rate')\n",
    "        for i in range(len(dat)): # loop over units\n",
    "            #plt.hist(dat[i]['spike_positions'][:,0]) # plot for spike positions\n",
    "            timeinds2grab = np.logical_and(dat[i]['spike_times'] > t_start_sec * fs, dat[i]['spike_times'] < t_end_sec * fs)\n",
    "            #shankinds2grab = np.logical_and(dat[i]['spike_positions'][:,0] > 0, dat[i]['spike_positions'][:,0] < 150) #FIXME: this is a temp fix until waveform positions are fixed\n",
    "            shankinds2grab = np.logical_and(dat[i]['spike_positions'][:,0] > 500, dat[i]['spike_positions'][:,0] < 650) #FIXME: this is a temp fix until waveform positions are fixed\n",
    "            depthinds2grab = dat[i]['spike_positions'][:,1] < 4900\n",
    "            inds2grab = np.logical_and.reduce([timeinds2grab, shankinds2grab, depthinds2grab])\n",
    "            #inds2grab = timeinds2grab\n",
    "\n",
    "            all_spikes['amps'] = np.concatenate([all_spikes['amps'], dat[i]['spike_amplitudes'][inds2grab]])\n",
    "            all_spikes['depths_um'] = np.concatenate([all_spikes['depths_um'], dat[i]['spike_positions'][inds2grab,1]])\n",
    "            spike_times_s = dat[i]['spike_times'][inds2grab] / fs\n",
    "            all_spikes['times_s'] = np.concatenate([all_spikes['times_s'], spike_times_s + session_offset_sec*o - t_start_sec])\n",
    "        session_breaks.append(session_offset_sec*o)\n",
    "    session_breaks = np.array(session_breaks[1:])\n",
    "    return all_spikes, session_breaks\n",
    "\n",
    "all_spikes, session_breaks = get_spike_data(session_dates, query, T_START_SEC, T_END_SEC)"
   ]
  },
  {
   "cell_type": "code",
   "execution_count": null,
   "metadata": {},
   "outputs": [],
   "source": [
    "sys.path.append('/home/joao/lib/dredge/dredge-python/')\n",
    "from dredge.dredge_ap import register\n",
    "\n",
    "motion_est, _ = register(**all_spikes)"
   ]
  },
  {
   "cell_type": "code",
   "execution_count": null,
   "metadata": {},
   "outputs": [],
   "source": [
    "from spks.viz import plot_drift_raster\n",
    "\n",
    "plt.figure(figsize=(20,8))\n",
    "plot_drift_raster(all_spikes['times_s'], all_spikes['depths_um'], all_spikes['amps'], rasterized=True)\n",
    "plt.vlines(session_breaks, *plt.gca().get_ylim(), linestyles='--', colors='black')\n",
    "#plt.plot(motion_est.spatial_bin_centers_um + motion_est.displacement.T)\n",
    "#plt.plot(4650 + motion_est.displacement.T)\n",
    "#plt.plot(4650 + motion_est.displacement.T)\n",
    "plt.plot(1800 + motion_est.displacement.T)\n",
    "plt.show()"
   ]
  },
  {
   "cell_type": "code",
   "execution_count": null,
   "metadata": {},
   "outputs": [],
   "source": [
    "plt.hist(all_spikes['depths_um'])\n",
    "plt.xlabel('depth (from kilosort)')\n",
    "plt.show()\n",
    "plt.hist((query & 'shank = 0').fetch('depth'))\n",
    "plt.xlabel('depth (from avg waveform)')\n",
    "plt.show()\n",
    "plt.plot(all_spikes['times_s'])"
   ]
  },
  {
   "cell_type": "code",
   "execution_count": null,
   "metadata": {},
   "outputs": [],
   "source": [
    "xy = (ProbeConfiguration() & 'configuration_id = 3' & 'probe_id = 20403312753').fetch('channel_coords')[0]"
   ]
  },
  {
   "cell_type": "code",
   "execution_count": null,
   "metadata": {},
   "outputs": [],
   "source": [
    "plt.scatter(*xy.T)"
   ]
  }
 ],
 "metadata": {
  "kernelspec": {
   "display_name": "spks",
   "language": "python",
   "name": "python3"
  },
  "language_info": {
   "codemirror_mode": {
    "name": "ipython",
    "version": 3
   },
   "file_extension": ".py",
   "mimetype": "text/x-python",
   "name": "python",
   "nbconvert_exporter": "python",
   "pygments_lexer": "ipython3",
   "version": "3.11.5"
  }
 },
 "nbformat": 4,
 "nbformat_minor": 2
}
